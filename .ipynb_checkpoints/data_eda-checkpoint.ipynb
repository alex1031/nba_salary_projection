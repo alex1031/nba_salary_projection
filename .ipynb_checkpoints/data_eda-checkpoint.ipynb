{
 "cells": [
  {
   "cell_type": "code",
   "execution_count": 72,
   "id": "397c1457",
   "metadata": {},
   "outputs": [],
   "source": [
    "import pandas as pd\n",
    "import numpy as np\n",
    "import matplotlib.pyplot as plt\n",
    "import seaborn as sns"
   ]
  },
  {
   "cell_type": "markdown",
   "id": "856f727b",
   "metadata": {},
   "source": [
    "# Model 1 "
   ]
  },
  {
   "cell_type": "code",
   "execution_count": 73,
   "id": "476a82f2",
   "metadata": {},
   "outputs": [],
   "source": [
    "df_1 = pd.read_csv('data/model_1_clean.csv')"
   ]
  },
  {
   "cell_type": "code",
   "execution_count": 74,
   "id": "add6cd98",
   "metadata": {},
   "outputs": [],
   "source": [
    "df_1.Salary = df_1.Salary/1000\n",
    "df_1['Salary Adjusted'] = df_1['Salary Adjusted']/1000"
   ]
  },
  {
   "cell_type": "code",
   "execution_count": 75,
   "id": "c9720e5e",
   "metadata": {},
   "outputs": [
    {
     "data": {
      "text/html": [
       "<div>\n",
       "<style scoped>\n",
       "    .dataframe tbody tr th:only-of-type {\n",
       "        vertical-align: middle;\n",
       "    }\n",
       "\n",
       "    .dataframe tbody tr th {\n",
       "        vertical-align: top;\n",
       "    }\n",
       "\n",
       "    .dataframe thead th {\n",
       "        text-align: right;\n",
       "    }\n",
       "</style>\n",
       "<table border=\"1\" class=\"dataframe\">\n",
       "  <thead>\n",
       "    <tr style=\"text-align: right;\">\n",
       "      <th></th>\n",
       "      <th>Unnamed: 0</th>\n",
       "      <th>Player</th>\n",
       "      <th>Pos</th>\n",
       "      <th>Age</th>\n",
       "      <th>G</th>\n",
       "      <th>GS</th>\n",
       "      <th>MP</th>\n",
       "      <th>OBPM</th>\n",
       "      <th>DBPM</th>\n",
       "      <th>ORtg</th>\n",
       "      <th>DRtg</th>\n",
       "      <th>Salary</th>\n",
       "      <th>Salary Adjusted</th>\n",
       "    </tr>\n",
       "  </thead>\n",
       "  <tbody>\n",
       "    <tr>\n",
       "      <th>0</th>\n",
       "      <td>0</td>\n",
       "      <td>Precious Achiuwa</td>\n",
       "      <td>Forward</td>\n",
       "      <td>21.0</td>\n",
       "      <td>61.0</td>\n",
       "      <td>4.0</td>\n",
       "      <td>12.1</td>\n",
       "      <td>-3.6</td>\n",
       "      <td>-0.5</td>\n",
       "      <td>107.0</td>\n",
       "      <td>109.0</td>\n",
       "      <td>2582.160</td>\n",
       "      <td>2967.925</td>\n",
       "    </tr>\n",
       "    <tr>\n",
       "      <th>1</th>\n",
       "      <td>1</td>\n",
       "      <td>Steven Adams</td>\n",
       "      <td>Center</td>\n",
       "      <td>27.0</td>\n",
       "      <td>58.0</td>\n",
       "      <td>58.0</td>\n",
       "      <td>27.7</td>\n",
       "      <td>-0.4</td>\n",
       "      <td>0.1</td>\n",
       "      <td>122.0</td>\n",
       "      <td>112.0</td>\n",
       "      <td>29592.695</td>\n",
       "      <td>34013.743</td>\n",
       "    </tr>\n",
       "    <tr>\n",
       "      <th>2</th>\n",
       "      <td>2</td>\n",
       "      <td>Bam Adebayo</td>\n",
       "      <td>Center</td>\n",
       "      <td>23.0</td>\n",
       "      <td>64.0</td>\n",
       "      <td>64.0</td>\n",
       "      <td>33.5</td>\n",
       "      <td>2.9</td>\n",
       "      <td>2.0</td>\n",
       "      <td>122.0</td>\n",
       "      <td>108.0</td>\n",
       "      <td>5115.492</td>\n",
       "      <td>5879.729</td>\n",
       "    </tr>\n",
       "    <tr>\n",
       "      <th>3</th>\n",
       "      <td>3</td>\n",
       "      <td>LaMarcus Aldridge</td>\n",
       "      <td>Center</td>\n",
       "      <td>35.0</td>\n",
       "      <td>26.0</td>\n",
       "      <td>23.0</td>\n",
       "      <td>25.9</td>\n",
       "      <td>-0.2</td>\n",
       "      <td>-0.2</td>\n",
       "      <td>109.0</td>\n",
       "      <td>113.0</td>\n",
       "      <td>17628.340</td>\n",
       "      <td>20261.954</td>\n",
       "    </tr>\n",
       "    <tr>\n",
       "      <th>4</th>\n",
       "      <td>4</td>\n",
       "      <td>Nickeil Alexander-Walker</td>\n",
       "      <td>Guard</td>\n",
       "      <td>22.0</td>\n",
       "      <td>46.0</td>\n",
       "      <td>13.0</td>\n",
       "      <td>21.9</td>\n",
       "      <td>-1.4</td>\n",
       "      <td>0.1</td>\n",
       "      <td>101.0</td>\n",
       "      <td>112.0</td>\n",
       "      <td>3113.160</td>\n",
       "      <td>3578.255</td>\n",
       "    </tr>\n",
       "  </tbody>\n",
       "</table>\n",
       "</div>"
      ],
      "text/plain": [
       "   Unnamed: 0                    Player      Pos   Age     G    GS    MP  \\\n",
       "0           0          Precious Achiuwa  Forward  21.0  61.0   4.0  12.1   \n",
       "1           1              Steven Adams   Center  27.0  58.0  58.0  27.7   \n",
       "2           2               Bam Adebayo   Center  23.0  64.0  64.0  33.5   \n",
       "3           3         LaMarcus Aldridge   Center  35.0  26.0  23.0  25.9   \n",
       "4           4  Nickeil Alexander-Walker    Guard  22.0  46.0  13.0  21.9   \n",
       "\n",
       "   OBPM  DBPM   ORtg   DRtg     Salary  Salary Adjusted  \n",
       "0  -3.6  -0.5  107.0  109.0   2582.160         2967.925  \n",
       "1  -0.4   0.1  122.0  112.0  29592.695        34013.743  \n",
       "2   2.9   2.0  122.0  108.0   5115.492         5879.729  \n",
       "3  -0.2  -0.2  109.0  113.0  17628.340        20261.954  \n",
       "4  -1.4   0.1  101.0  112.0   3113.160         3578.255  "
      ]
     },
     "execution_count": 75,
     "metadata": {},
     "output_type": "execute_result"
    }
   ],
   "source": [
    "df_1.head()"
   ]
  },
  {
   "cell_type": "code",
   "execution_count": 76,
   "id": "e895f698",
   "metadata": {},
   "outputs": [
    {
     "data": {
      "text/plain": [
       "Guard      361\n",
       "Forward    331\n",
       "Center     164\n",
       "Name: Pos, dtype: int64"
      ]
     },
     "execution_count": 76,
     "metadata": {},
     "output_type": "execute_result"
    }
   ],
   "source": [
    "df_1['Pos'].value_counts()"
   ]
  },
  {
   "cell_type": "code",
   "execution_count": 77,
   "id": "c6839ee4",
   "metadata": {},
   "outputs": [
    {
     "data": {
      "text/html": [
       "<div>\n",
       "<style scoped>\n",
       "    .dataframe tbody tr th:only-of-type {\n",
       "        vertical-align: middle;\n",
       "    }\n",
       "\n",
       "    .dataframe tbody tr th {\n",
       "        vertical-align: top;\n",
       "    }\n",
       "\n",
       "    .dataframe thead th {\n",
       "        text-align: right;\n",
       "    }\n",
       "</style>\n",
       "<table border=\"1\" class=\"dataframe\">\n",
       "  <thead>\n",
       "    <tr style=\"text-align: right;\">\n",
       "      <th></th>\n",
       "      <th>Unnamed: 0</th>\n",
       "      <th>Age</th>\n",
       "      <th>G</th>\n",
       "      <th>GS</th>\n",
       "      <th>MP</th>\n",
       "      <th>OBPM</th>\n",
       "      <th>DBPM</th>\n",
       "      <th>ORtg</th>\n",
       "      <th>DRtg</th>\n",
       "      <th>Salary</th>\n",
       "      <th>Salary Adjusted</th>\n",
       "    </tr>\n",
       "  </thead>\n",
       "  <tbody>\n",
       "    <tr>\n",
       "      <th>count</th>\n",
       "      <td>856.000000</td>\n",
       "      <td>856.000000</td>\n",
       "      <td>856.000000</td>\n",
       "      <td>856.000000</td>\n",
       "      <td>856.000000</td>\n",
       "      <td>856.000000</td>\n",
       "      <td>856.000000</td>\n",
       "      <td>856.000000</td>\n",
       "      <td>856.000000</td>\n",
       "      <td>856.000000</td>\n",
       "      <td>856.000000</td>\n",
       "    </tr>\n",
       "    <tr>\n",
       "      <th>mean</th>\n",
       "      <td>427.500000</td>\n",
       "      <td>25.837617</td>\n",
       "      <td>53.116822</td>\n",
       "      <td>26.239486</td>\n",
       "      <td>22.065537</td>\n",
       "      <td>-0.680724</td>\n",
       "      <td>-0.041706</td>\n",
       "      <td>111.954439</td>\n",
       "      <td>112.320093</td>\n",
       "      <td>8314.756160</td>\n",
       "      <td>9308.845190</td>\n",
       "    </tr>\n",
       "    <tr>\n",
       "      <th>std</th>\n",
       "      <td>247.250211</td>\n",
       "      <td>4.231382</td>\n",
       "      <td>15.805851</td>\n",
       "      <td>25.386461</td>\n",
       "      <td>8.389874</td>\n",
       "      <td>2.535768</td>\n",
       "      <td>1.204864</td>\n",
       "      <td>9.973721</td>\n",
       "      <td>3.538311</td>\n",
       "      <td>9714.827008</td>\n",
       "      <td>10877.871231</td>\n",
       "    </tr>\n",
       "    <tr>\n",
       "      <th>min</th>\n",
       "      <td>0.000000</td>\n",
       "      <td>19.000000</td>\n",
       "      <td>20.000000</td>\n",
       "      <td>0.000000</td>\n",
       "      <td>3.000000</td>\n",
       "      <td>-9.700000</td>\n",
       "      <td>-4.000000</td>\n",
       "      <td>73.000000</td>\n",
       "      <td>100.000000</td>\n",
       "      <td>135.362000</td>\n",
       "      <td>155.584000</td>\n",
       "    </tr>\n",
       "    <tr>\n",
       "      <th>25%</th>\n",
       "      <td>213.750000</td>\n",
       "      <td>22.000000</td>\n",
       "      <td>41.000000</td>\n",
       "      <td>4.000000</td>\n",
       "      <td>15.900000</td>\n",
       "      <td>-2.300000</td>\n",
       "      <td>-0.900000</td>\n",
       "      <td>106.000000</td>\n",
       "      <td>110.000000</td>\n",
       "      <td>1789.256000</td>\n",
       "      <td>2023.321750</td>\n",
       "    </tr>\n",
       "    <tr>\n",
       "      <th>50%</th>\n",
       "      <td>427.500000</td>\n",
       "      <td>25.000000</td>\n",
       "      <td>55.000000</td>\n",
       "      <td>16.000000</td>\n",
       "      <td>22.100000</td>\n",
       "      <td>-0.900000</td>\n",
       "      <td>-0.100000</td>\n",
       "      <td>112.000000</td>\n",
       "      <td>112.500000</td>\n",
       "      <td>3990.275500</td>\n",
       "      <td>4436.375000</td>\n",
       "    </tr>\n",
       "    <tr>\n",
       "      <th>75%</th>\n",
       "      <td>641.250000</td>\n",
       "      <td>29.000000</td>\n",
       "      <td>66.000000</td>\n",
       "      <td>50.000000</td>\n",
       "      <td>29.300000</td>\n",
       "      <td>0.625000</td>\n",
       "      <td>0.700000</td>\n",
       "      <td>118.000000</td>\n",
       "      <td>115.000000</td>\n",
       "      <td>10899.464000</td>\n",
       "      <td>12091.918750</td>\n",
       "    </tr>\n",
       "    <tr>\n",
       "      <th>max</th>\n",
       "      <td>855.000000</td>\n",
       "      <td>38.000000</td>\n",
       "      <td>82.000000</td>\n",
       "      <td>82.000000</td>\n",
       "      <td>37.900000</td>\n",
       "      <td>9.200000</td>\n",
       "      <td>4.600000</td>\n",
       "      <td>148.000000</td>\n",
       "      <td>122.000000</td>\n",
       "      <td>45780.966000</td>\n",
       "      <td>49928.610000</td>\n",
       "    </tr>\n",
       "  </tbody>\n",
       "</table>\n",
       "</div>"
      ],
      "text/plain": [
       "       Unnamed: 0         Age           G          GS          MP        OBPM  \\\n",
       "count  856.000000  856.000000  856.000000  856.000000  856.000000  856.000000   \n",
       "mean   427.500000   25.837617   53.116822   26.239486   22.065537   -0.680724   \n",
       "std    247.250211    4.231382   15.805851   25.386461    8.389874    2.535768   \n",
       "min      0.000000   19.000000   20.000000    0.000000    3.000000   -9.700000   \n",
       "25%    213.750000   22.000000   41.000000    4.000000   15.900000   -2.300000   \n",
       "50%    427.500000   25.000000   55.000000   16.000000   22.100000   -0.900000   \n",
       "75%    641.250000   29.000000   66.000000   50.000000   29.300000    0.625000   \n",
       "max    855.000000   38.000000   82.000000   82.000000   37.900000    9.200000   \n",
       "\n",
       "             DBPM        ORtg        DRtg        Salary  Salary Adjusted  \n",
       "count  856.000000  856.000000  856.000000    856.000000       856.000000  \n",
       "mean    -0.041706  111.954439  112.320093   8314.756160      9308.845190  \n",
       "std      1.204864    9.973721    3.538311   9714.827008     10877.871231  \n",
       "min     -4.000000   73.000000  100.000000    135.362000       155.584000  \n",
       "25%     -0.900000  106.000000  110.000000   1789.256000      2023.321750  \n",
       "50%     -0.100000  112.000000  112.500000   3990.275500      4436.375000  \n",
       "75%      0.700000  118.000000  115.000000  10899.464000     12091.918750  \n",
       "max      4.600000  148.000000  122.000000  45780.966000     49928.610000  "
      ]
     },
     "execution_count": 77,
     "metadata": {},
     "output_type": "execute_result"
    }
   ],
   "source": [
    "df_1.describe()"
   ]
  },
  {
   "cell_type": "code",
   "execution_count": 78,
   "id": "c3826e81",
   "metadata": {},
   "outputs": [
    {
     "data": {
      "image/png": "[encoded data removed]",
      "text/plain": [
       "<Figure size 432x288 with 1 Axes>"
      ]
     },
     "metadata": {
      "needs_background": "light"
     },
     "output_type": "display_data"
    }
   ],
   "source": [
    "plt.hist(df_1.Age)\n",
    "plt.xlabel('Age')\n",
    "plt.text(30, 140, 'It follows more of an \\nexponential distribution')\n",
    "plt.vlines(np.mean(df_1.Age), 0, 160, colors='r')\n",
    "plt.show()"
   ]
  },
  {
   "cell_type": "code",
   "execution_count": 79,
   "id": "c3e3fa6b",
   "metadata": {},
   "outputs": [
    {
     "data": {
      "image/png": "[encoded data removed]",
      "text/plain": [
       "<Figure size 432x288 with 1 Axes>"
      ]
     },
     "metadata": {
      "needs_background": "light"
     },
     "output_type": "display_data"
    }
   ],
   "source": [
    "plt.hist(df_1.OBPM)\n",
    "plt.xlabel('Offensive Box Plus Minus')\n",
    "plt.text(0.5, 250, 'Follows a normal distribution')\n",
    "plt.show()"
   ]
  },
  {
   "cell_type": "code",
   "execution_count": 80,
   "id": "ccbc294f",
   "metadata": {},
   "outputs": [
    {
     "data": {
      "image/png": "[encoded data removed]",
      "text/plain": [
       "<Figure size 432x288 with 1 Axes>"
      ]
     },
     "metadata": {
      "needs_background": "light"
     },
     "output_type": "display_data"
    }
   ],
   "source": [
    "plt.hist(df_1.DBPM)\n",
    "plt.xlabel('Defensive Box Plus Minus')\n",
    "plt.text(0.5, 220, 'Follows a normal distribution')\n",
    "plt.show()"
   ]
  },
  {
   "cell_type": "code",
   "execution_count": 81,
   "id": "1a538b3c",
   "metadata": {},
   "outputs": [
    {
     "data": {
      "image/png": "[encoded data removed]",
      "text/plain": [
       "<Figure size 432x288 with 1 Axes>"
      ]
     },
     "metadata": {
      "needs_background": "light"
     },
     "output_type": "display_data"
    }
   ],
   "source": [
    "plt.hist(df_1.ORtg)\n",
    "plt.xlabel('Offensive Rating')\n",
    "plt.text(120, 200, 'It seems to follow a \\nnormal distribution.')\n",
    "plt.show()"
   ]
  },
  {
   "cell_type": "code",
   "execution_count": 82,
   "id": "9ab50bc8",
   "metadata": {},
   "outputs": [
    {
     "data": {
      "image/png": "[encoded data removed]",
      "text/plain": [
       "<Figure size 432x288 with 1 Axes>"
      ]
     },
     "metadata": {
      "needs_background": "light"
     },
     "output_type": "display_data"
    }
   ],
   "source": [
    "plt.hist(df_1.DRtg)\n",
    "plt.xlabel('Defensive Rating')\n",
    "plt.text(100, 200, 'It roughly to follow a \\nnormal distribution.')\n",
    "plt.show()"
   ]
  },
  {
   "cell_type": "code",
   "execution_count": 83,
   "id": "14ab868f",
   "metadata": {},
   "outputs": [
    {
     "data": {
      "image/png": "[encoded data removed]",
      "text/plain": [
       "<Figure size 432x288 with 1 Axes>"
      ]
     },
     "metadata": {
      "needs_background": "light"
     },
     "output_type": "display_data"
    }
   ],
   "source": [
    "plt.hist(df_1['Salary Adjusted'], bins=20)\n",
    "plt.xlabel('Salary Adjusted to Inflation')\n",
    "plt.text(15000, 250, 'Seems to follow an non normal distribution. \\nAdjustments will need to be made during \\nmodel building.')\n",
    "plt.vlines(np.mean(df_1['Salary Adjusted']), 0, 300, colors='r')\n",
    "plt.show()"
   ]
  },
  {
   "cell_type": "code",
   "execution_count": 84,
   "id": "64d8b2f6",
   "metadata": {},
   "outputs": [
    {
     "data": {
      "text/html": [
       "<div>\n",
       "<style scoped>\n",
       "    .dataframe tbody tr th:only-of-type {\n",
       "        vertical-align: middle;\n",
       "    }\n",
       "\n",
       "    .dataframe tbody tr th {\n",
       "        vertical-align: top;\n",
       "    }\n",
       "\n",
       "    .dataframe thead th {\n",
       "        text-align: right;\n",
       "    }\n",
       "</style>\n",
       "<table border=\"1\" class=\"dataframe\">\n",
       "  <thead>\n",
       "    <tr style=\"text-align: right;\">\n",
       "      <th></th>\n",
       "      <th>OBPM</th>\n",
       "      <th>DBPM</th>\n",
       "      <th>ORtg</th>\n",
       "      <th>DRtg</th>\n",
       "    </tr>\n",
       "  </thead>\n",
       "  <tbody>\n",
       "    <tr>\n",
       "      <th>OBPM</th>\n",
       "      <td>1.000000</td>\n",
       "      <td>0.144029</td>\n",
       "      <td>0.609806</td>\n",
       "      <td>-0.146373</td>\n",
       "    </tr>\n",
       "    <tr>\n",
       "      <th>DBPM</th>\n",
       "      <td>0.144029</td>\n",
       "      <td>1.000000</td>\n",
       "      <td>0.309073</td>\n",
       "      <td>-0.765338</td>\n",
       "    </tr>\n",
       "    <tr>\n",
       "      <th>ORtg</th>\n",
       "      <td>0.609806</td>\n",
       "      <td>0.309073</td>\n",
       "      <td>1.000000</td>\n",
       "      <td>-0.254184</td>\n",
       "    </tr>\n",
       "    <tr>\n",
       "      <th>DRtg</th>\n",
       "      <td>-0.146373</td>\n",
       "      <td>-0.765338</td>\n",
       "      <td>-0.254184</td>\n",
       "      <td>1.000000</td>\n",
       "    </tr>\n",
       "  </tbody>\n",
       "</table>\n",
       "</div>"
      ],
      "text/plain": [
       "          OBPM      DBPM      ORtg      DRtg\n",
       "OBPM  1.000000  0.144029  0.609806 -0.146373\n",
       "DBPM  0.144029  1.000000  0.309073 -0.765338\n",
       "ORtg  0.609806  0.309073  1.000000 -0.254184\n",
       "DRtg -0.146373 -0.765338 -0.254184  1.000000"
      ]
     },
     "execution_count": 84,
     "metadata": {},
     "output_type": "execute_result"
    }
   ],
   "source": [
    "df_1[['OBPM', 'DBPM', 'ORtg', 'DRtg']].corr()"
   ]
  },
  {
   "cell_type": "code",
   "execution_count": 85,
   "id": "e4b52121",
   "metadata": {},
   "outputs": [
    {
     "data": {
      "text/plain": [
       "<AxesSubplot:>"
      ]
     },
     "execution_count": 85,
     "metadata": {},
     "output_type": "execute_result"
    },
    {
     "data": {
      "image/png": "[encoded data removed]",
      "text/plain": [
       "<Figure size 432x288 with 2 Axes>"
      ]
     },
     "metadata": {
      "needs_background": "light"
     },
     "output_type": "display_data"
    }
   ],
   "source": [
    "cmap = sns.diverging_palette(220, 10, as_cmap=True)\n",
    "sns.heatmap(df_1[['OBPM', 'DBPM', 'ORtg', 'DRtg']].corr(),vmax=.3, center=0, cmap=cmap,\n",
    "            square=True, linewidths=.5, cbar_kws={\"shrink\": .5})"
   ]
  },
  {
   "cell_type": "markdown",
   "id": "017625f9",
   "metadata": {},
   "source": [
    "There is a high correlation between offensive rating and offensive box plus minus, also between defensive rating and defensive box plus minus, which was to be expected. Personally I was hoping there was less correlation since the ratings were based more on box score stats, while box plus minus is based on points scored and allowed when they are on the court, with some adjustments. This means that adjustments have to be made during the model building process."
   ]
  },
  {
   "cell_type": "code",
   "execution_count": 86,
   "id": "dce42db3",
   "metadata": {},
   "outputs": [
    {
     "data": {
      "text/html": [
       "<div>\n",
       "<style scoped>\n",
       "    .dataframe tbody tr th:only-of-type {\n",
       "        vertical-align: middle;\n",
       "    }\n",
       "\n",
       "    .dataframe tbody tr th {\n",
       "        vertical-align: top;\n",
       "    }\n",
       "\n",
       "    .dataframe thead th {\n",
       "        text-align: right;\n",
       "    }\n",
       "</style>\n",
       "<table border=\"1\" class=\"dataframe\">\n",
       "  <thead>\n",
       "    <tr style=\"text-align: right;\">\n",
       "      <th></th>\n",
       "      <th>Unnamed: 0</th>\n",
       "      <th>Age</th>\n",
       "      <th>G</th>\n",
       "      <th>GS</th>\n",
       "      <th>MP</th>\n",
       "      <th>OBPM</th>\n",
       "      <th>DBPM</th>\n",
       "      <th>ORtg</th>\n",
       "      <th>DRtg</th>\n",
       "      <th>Salary</th>\n",
       "      <th>Salary Adjusted</th>\n",
       "    </tr>\n",
       "    <tr>\n",
       "      <th>Pos</th>\n",
       "      <th></th>\n",
       "      <th></th>\n",
       "      <th></th>\n",
       "      <th></th>\n",
       "      <th></th>\n",
       "      <th></th>\n",
       "      <th></th>\n",
       "      <th></th>\n",
       "      <th></th>\n",
       "      <th></th>\n",
       "      <th></th>\n",
       "    </tr>\n",
       "  </thead>\n",
       "  <tbody>\n",
       "    <tr>\n",
       "      <th>Center</th>\n",
       "      <td>437.506098</td>\n",
       "      <td>26.658537</td>\n",
       "      <td>53.079268</td>\n",
       "      <td>27.621951</td>\n",
       "      <td>20.434146</td>\n",
       "      <td>-0.100000</td>\n",
       "      <td>0.554878</td>\n",
       "      <td>119.500000</td>\n",
       "      <td>109.432927</td>\n",
       "      <td>8566.768482</td>\n",
       "      <td>9582.583707</td>\n",
       "    </tr>\n",
       "    <tr>\n",
       "      <th>Forward</th>\n",
       "      <td>419.069486</td>\n",
       "      <td>25.767372</td>\n",
       "      <td>52.839879</td>\n",
       "      <td>26.287009</td>\n",
       "      <td>21.810574</td>\n",
       "      <td>-0.998792</td>\n",
       "      <td>-0.051057</td>\n",
       "      <td>111.187311</td>\n",
       "      <td>112.359517</td>\n",
       "      <td>8073.712266</td>\n",
       "      <td>9044.841894</td>\n",
       "    </tr>\n",
       "    <tr>\n",
       "      <th>Guard</th>\n",
       "      <td>430.684211</td>\n",
       "      <td>25.529086</td>\n",
       "      <td>53.387812</td>\n",
       "      <td>25.567867</td>\n",
       "      <td>23.040443</td>\n",
       "      <td>-0.652909</td>\n",
       "      <td>-0.304155</td>\n",
       "      <td>109.229917</td>\n",
       "      <td>113.595568</td>\n",
       "      <td>8421.281114</td>\n",
       "      <td>9426.551490</td>\n",
       "    </tr>\n",
       "  </tbody>\n",
       "</table>\n",
       "</div>"
      ],
      "text/plain": [
       "         Unnamed: 0        Age          G         GS         MP      OBPM  \\\n",
       "Pos                                                                         \n",
       "Center   437.506098  26.658537  53.079268  27.621951  20.434146 -0.100000   \n",
       "Forward  419.069486  25.767372  52.839879  26.287009  21.810574 -0.998792   \n",
       "Guard    430.684211  25.529086  53.387812  25.567867  23.040443 -0.652909   \n",
       "\n",
       "             DBPM        ORtg        DRtg       Salary  Salary Adjusted  \n",
       "Pos                                                                      \n",
       "Center   0.554878  119.500000  109.432927  8566.768482      9582.583707  \n",
       "Forward -0.051057  111.187311  112.359517  8073.712266      9044.841894  \n",
       "Guard   -0.304155  109.229917  113.595568  8421.281114      9426.551490  "
      ]
     },
     "execution_count": 86,
     "metadata": {},
     "output_type": "execute_result"
    }
   ],
   "source": [
    "df_1.groupby(['Pos']).mean()"
   ]
  },
  {
   "cell_type": "code",
   "execution_count": 87,
   "id": "559536d6",
   "metadata": {},
   "outputs": [
    {
     "data": {
      "image/png": "[encoded data removed]",
      "text/plain": [
       "<Figure size 432x288 with 1 Axes>"
      ]
     },
     "metadata": {
      "needs_background": "light"
     },
     "output_type": "display_data"
    }
   ],
   "source": [
    "plt.bar(df_1.groupby(['Pos']).mean().index, df_1.groupby(['Pos']).mean()['Salary Adjusted'])\n",
    "plt.show()"
   ]
  },
  {
   "cell_type": "markdown",
   "id": "82dce9bd",
   "metadata": {},
   "source": [
    "Different positions seems to get around the same pay."
   ]
  },
  {
   "cell_type": "code",
   "execution_count": 88,
   "id": "44a62515",
   "metadata": {},
   "outputs": [
    {
     "data": {
      "image/png": "[encoded data removed]",
      "text/plain": [
       "<Figure size 432x288 with 1 Axes>"
      ]
     },
     "metadata": {
      "needs_background": "light"
     },
     "output_type": "display_data"
    },
    {
     "data": {
      "image/png": "[encoded data removed]",
      "text/plain": [
       "<Figure size 432x288 with 1 Axes>"
      ]
     },
     "metadata": {
      "needs_background": "light"
     },
     "output_type": "display_data"
    },
    {
     "data": {
      "image/png": "[encoded data removed]",
      "text/plain": [
       "<Figure size 432x288 with 1 Axes>"
      ]
     },
     "metadata": {
      "needs_background": "light"
     },
     "output_type": "display_data"
    },
    {
     "data": {
      "image/png": "[encoded data removed]",
      "text/plain": [
       "<Figure size 432x288 with 1 Axes>"
      ]
     },
     "metadata": {
      "needs_background": "light"
     },
     "output_type": "display_data"
    }
   ],
   "source": [
    "df_1_box = df_1[['ORtg', 'DRtg', 'OBPM', 'DBPM']]\n",
    "for col in df_1_box:\n",
    "    sns.boxplot(x=df_1['Pos'], y=df_1_box[col])\n",
    "    plt.show()"
   ]
  },
  {
   "cell_type": "code",
   "execution_count": 89,
   "id": "3abc455d",
   "metadata": {},
   "outputs": [],
   "source": [
    "df_1['age_bin'] = pd.cut(df_1.Age, [18, 21, 24, 27, 30, 33, 36, 39])"
   ]
  },
  {
   "cell_type": "code",
   "execution_count": 90,
   "id": "b91048a6",
   "metadata": {},
   "outputs": [
    {
     "data": {
      "text/plain": [
       "(21, 24]    248\n",
       "(24, 27]    188\n",
       "(27, 30]    145\n",
       "(18, 21]    136\n",
       "(30, 33]     91\n",
       "(33, 36]     44\n",
       "(36, 39]      4\n",
       "Name: age_bin, dtype: int64"
      ]
     },
     "execution_count": 90,
     "metadata": {},
     "output_type": "execute_result"
    }
   ],
   "source": [
    "df_1['age_bin'].value_counts()"
   ]
  },
  {
   "cell_type": "markdown",
   "id": "05936120",
   "metadata": {},
   "source": [
    "**Disclaimer**: LeBron James is one of four players in the 36-39 age bracket, so he might skew the salary results as one of the highest paid players of all time."
   ]
  },
  {
   "cell_type": "code",
   "execution_count": 91,
   "id": "40257153",
   "metadata": {},
   "outputs": [],
   "source": [
    "df_1['games_bin'] = pd.cut(df_1.G, [20, 35, 50, 65, 82], include_lowest=True)"
   ]
  },
  {
   "cell_type": "code",
   "execution_count": 92,
   "id": "1a21ff30",
   "metadata": {},
   "outputs": [
    {
     "data": {
      "text/plain": [
       "(50.0, 65.0]      278\n",
       "(65.0, 82.0]      232\n",
       "(35.0, 50.0]      200\n",
       "(19.999, 35.0]    146\n",
       "Name: games_bin, dtype: int64"
      ]
     },
     "execution_count": 92,
     "metadata": {},
     "output_type": "execute_result"
    }
   ],
   "source": [
    "df_1.games_bin.value_counts()"
   ]
  },
  {
   "cell_type": "code",
   "execution_count": 93,
   "id": "8d4fec54",
   "metadata": {},
   "outputs": [],
   "source": [
    "df_1['games_started_bin'] = pd.cut(df_1.GS, [0, 20, 40, 60, 82], include_lowest=True)"
   ]
  },
  {
   "cell_type": "code",
   "execution_count": 94,
   "id": "670be6b7",
   "metadata": {},
   "outputs": [
    {
     "data": {
      "text/plain": [
       "(-0.001, 20.0]    471\n",
       "(60.0, 82.0]      144\n",
       "(20.0, 40.0]      126\n",
       "(40.0, 60.0]      115\n",
       "Name: games_started_bin, dtype: int64"
      ]
     },
     "execution_count": 94,
     "metadata": {},
     "output_type": "execute_result"
    }
   ],
   "source": [
    "df_1.games_started_bin.value_counts()"
   ]
  },
  {
   "cell_type": "code",
   "execution_count": 95,
   "id": "cd41c842",
   "metadata": {},
   "outputs": [],
   "source": [
    "df_1['mins_bin'] = pd.cut(df_1.MP, [0, 10, 20, 30, 40], include_lowest=True)"
   ]
  },
  {
   "cell_type": "code",
   "execution_count": 96,
   "id": "41f9170a",
   "metadata": {},
   "outputs": [
    {
     "data": {
      "text/plain": [
       "(20.0, 30.0]      305\n",
       "(10.0, 20.0]      286\n",
       "(30.0, 40.0]      185\n",
       "(-0.001, 10.0]     80\n",
       "Name: mins_bin, dtype: int64"
      ]
     },
     "execution_count": 96,
     "metadata": {},
     "output_type": "execute_result"
    }
   ],
   "source": [
    "df_1.mins_bin.value_counts()"
   ]
  },
  {
   "cell_type": "code",
   "execution_count": 97,
   "id": "be12a902",
   "metadata": {},
   "outputs": [],
   "source": [
    "df_1_rtg = df_1.groupby(['age_bin']).mean()"
   ]
  },
  {
   "cell_type": "code",
   "execution_count": 98,
   "id": "792f7340",
   "metadata": {},
   "outputs": [
    {
     "data": {
      "text/html": [
       "<div>\n",
       "<style scoped>\n",
       "    .dataframe tbody tr th:only-of-type {\n",
       "        vertical-align: middle;\n",
       "    }\n",
       "\n",
       "    .dataframe tbody tr th {\n",
       "        vertical-align: top;\n",
       "    }\n",
       "\n",
       "    .dataframe thead th {\n",
       "        text-align: right;\n",
       "    }\n",
       "</style>\n",
       "<table border=\"1\" class=\"dataframe\">\n",
       "  <thead>\n",
       "    <tr style=\"text-align: right;\">\n",
       "      <th></th>\n",
       "      <th>Unnamed: 0</th>\n",
       "      <th>Age</th>\n",
       "      <th>G</th>\n",
       "      <th>GS</th>\n",
       "      <th>MP</th>\n",
       "      <th>OBPM</th>\n",
       "      <th>DBPM</th>\n",
       "      <th>ORtg</th>\n",
       "      <th>DRtg</th>\n",
       "      <th>Salary</th>\n",
       "      <th>Salary Adjusted</th>\n",
       "    </tr>\n",
       "    <tr>\n",
       "      <th>age_bin</th>\n",
       "      <th></th>\n",
       "      <th></th>\n",
       "      <th></th>\n",
       "      <th></th>\n",
       "      <th></th>\n",
       "      <th></th>\n",
       "      <th></th>\n",
       "      <th></th>\n",
       "      <th></th>\n",
       "      <th></th>\n",
       "      <th></th>\n",
       "    </tr>\n",
       "  </thead>\n",
       "  <tbody>\n",
       "    <tr>\n",
       "      <th>(18, 21]</th>\n",
       "      <td>415.080882</td>\n",
       "      <td>20.367647</td>\n",
       "      <td>51.029412</td>\n",
       "      <td>22.308824</td>\n",
       "      <td>19.904412</td>\n",
       "      <td>-2.040441</td>\n",
       "      <td>-0.575000</td>\n",
       "      <td>106.617647</td>\n",
       "      <td>113.139706</td>\n",
       "      <td>3500.087419</td>\n",
       "      <td>3921.837390</td>\n",
       "    </tr>\n",
       "    <tr>\n",
       "      <th>(21, 24]</th>\n",
       "      <td>438.520161</td>\n",
       "      <td>22.995968</td>\n",
       "      <td>50.947581</td>\n",
       "      <td>21.931452</td>\n",
       "      <td>20.370968</td>\n",
       "      <td>-0.834677</td>\n",
       "      <td>-0.076210</td>\n",
       "      <td>111.899194</td>\n",
       "      <td>112.237903</td>\n",
       "      <td>4637.102730</td>\n",
       "      <td>5190.974181</td>\n",
       "    </tr>\n",
       "    <tr>\n",
       "      <th>(24, 27]</th>\n",
       "      <td>439.500000</td>\n",
       "      <td>25.946809</td>\n",
       "      <td>55.276596</td>\n",
       "      <td>30.920213</td>\n",
       "      <td>23.252128</td>\n",
       "      <td>-0.298404</td>\n",
       "      <td>0.101596</td>\n",
       "      <td>112.670213</td>\n",
       "      <td>112.117021</td>\n",
       "      <td>9252.529149</td>\n",
       "      <td>10351.423979</td>\n",
       "    </tr>\n",
       "    <tr>\n",
       "      <th>(27, 30]</th>\n",
       "      <td>407.441379</td>\n",
       "      <td>28.875862</td>\n",
       "      <td>56.034483</td>\n",
       "      <td>28.372414</td>\n",
       "      <td>23.809655</td>\n",
       "      <td>-0.194483</td>\n",
       "      <td>0.033793</td>\n",
       "      <td>114.979310</td>\n",
       "      <td>112.675862</td>\n",
       "      <td>11779.260172</td>\n",
       "      <td>13233.322241</td>\n",
       "    </tr>\n",
       "    <tr>\n",
       "      <th>(30, 33]</th>\n",
       "      <td>427.296703</td>\n",
       "      <td>31.824176</td>\n",
       "      <td>53.329670</td>\n",
       "      <td>31.912088</td>\n",
       "      <td>24.076923</td>\n",
       "      <td>0.172527</td>\n",
       "      <td>0.191209</td>\n",
       "      <td>113.164835</td>\n",
       "      <td>111.615385</td>\n",
       "      <td>16321.829923</td>\n",
       "      <td>18199.996791</td>\n",
       "    </tr>\n",
       "  </tbody>\n",
       "</table>\n",
       "</div>"
      ],
      "text/plain": [
       "          Unnamed: 0        Age          G         GS         MP      OBPM  \\\n",
       "age_bin                                                                      \n",
       "(18, 21]  415.080882  20.367647  51.029412  22.308824  19.904412 -2.040441   \n",
       "(21, 24]  438.520161  22.995968  50.947581  21.931452  20.370968 -0.834677   \n",
       "(24, 27]  439.500000  25.946809  55.276596  30.920213  23.252128 -0.298404   \n",
       "(27, 30]  407.441379  28.875862  56.034483  28.372414  23.809655 -0.194483   \n",
       "(30, 33]  427.296703  31.824176  53.329670  31.912088  24.076923  0.172527   \n",
       "\n",
       "              DBPM        ORtg        DRtg        Salary  Salary Adjusted  \n",
       "age_bin                                                                    \n",
       "(18, 21] -0.575000  106.617647  113.139706   3500.087419      3921.837390  \n",
       "(21, 24] -0.076210  111.899194  112.237903   4637.102730      5190.974181  \n",
       "(24, 27]  0.101596  112.670213  112.117021   9252.529149     10351.423979  \n",
       "(27, 30]  0.033793  114.979310  112.675862  11779.260172     13233.322241  \n",
       "(30, 33]  0.191209  113.164835  111.615385  16321.829923     18199.996791  "
      ]
     },
     "execution_count": 98,
     "metadata": {},
     "output_type": "execute_result"
    }
   ],
   "source": [
    "df_1_rtg.head()"
   ]
  },
  {
   "cell_type": "code",
   "execution_count": 99,
   "id": "3c06d850",
   "metadata": {},
   "outputs": [
    {
     "data": {
      "image/png": "[encoded data removed]",
      "text/plain": [
       "<Figure size 720x360 with 1 Axes>"
      ]
     },
     "metadata": {
      "needs_background": "light"
     },
     "output_type": "display_data"
    }
   ],
   "source": [
    "plt.figure(figsize=(10, 5))\n",
    "plt.plot(list(df_1_rtg.index.astype(str)), np.array(df_1_rtg.ORtg), label='ORtg')\n",
    "plt.plot(list(df_1_rtg.index.astype(str)), np.array(df_1_rtg.DRtg), label='DRtg')\n",
    "plt.xlabel('Age')\n",
    "plt.ylabel('Offensive Rating/Defensive Rating')\n",
    "plt.legend()\n",
    "plt.show()"
   ]
  },
  {
   "cell_type": "code",
   "execution_count": 100,
   "id": "14f83334",
   "metadata": {},
   "outputs": [
    {
     "data": {
      "image/png": "[encoded data removed]",
      "text/plain": [
       "<Figure size 720x360 with 1 Axes>"
      ]
     },
     "metadata": {
      "needs_background": "light"
     },
     "output_type": "display_data"
    }
   ],
   "source": [
    "plt.figure(figsize=(10, 5))\n",
    "plt.plot(list(df_1_rtg.index.astype(str)), np.array(df_1_rtg.OBPM), label='OBPM')\n",
    "plt.plot(list(df_1_rtg.index.astype(str)), np.array(df_1_rtg.DBPM), label='DBPM')\n",
    "plt.xlabel('Age')\n",
    "plt.ylabel('Offensive/Defensive Box Plus Minus')\n",
    "plt.legend()\n",
    "plt.show()"
   ]
  },
  {
   "cell_type": "markdown",
   "id": "9403e2f7",
   "metadata": {},
   "source": [
    "The two graphs above suggests that the 'prime' of players usually occur between 27-33, with anomalies such as LeBron being able to maintain that past the norm, which skews our graphs"
   ]
  },
  {
   "cell_type": "code",
   "execution_count": 101,
   "id": "6d52e91e",
   "metadata": {},
   "outputs": [
    {
     "data": {
      "image/png": "[encoded data removed]",
      "text/plain": [
       "<Figure size 720x360 with 1 Axes>"
      ]
     },
     "metadata": {
      "needs_background": "light"
     },
     "output_type": "display_data"
    }
   ],
   "source": [
    "plt.figure(figsize=(10, 5))\n",
    "plt.plot(list(df_1_rtg.index.astype(str)), np.array(df_1_rtg['Salary Adjusted']))\n",
    "plt.xlabel('Age')\n",
    "plt.ylabel('Salary Adjusted')\n",
    "plt.show()"
   ]
  },
  {
   "cell_type": "markdown",
   "id": "5b0cfb3c",
   "metadata": {},
   "source": [
    "A speculation can be made that because players performed during their prime years, teams then lock them in a big contract over multiple years, hence skewing the graph towards older players being paid more. Veterans also benefit from a higher minimum salary, and the teams' willingness to pay premium for their experience."
   ]
  },
  {
   "cell_type": "code",
   "execution_count": 102,
   "id": "fd780c90",
   "metadata": {},
   "outputs": [],
   "source": [
    "df_1_mins = df_1.groupby(['mins_bin']).mean()"
   ]
  },
  {
   "cell_type": "code",
   "execution_count": 103,
   "id": "57f6923f",
   "metadata": {},
   "outputs": [
    {
     "data": {
      "text/html": [
       "<div>\n",
       "<style scoped>\n",
       "    .dataframe tbody tr th:only-of-type {\n",
       "        vertical-align: middle;\n",
       "    }\n",
       "\n",
       "    .dataframe tbody tr th {\n",
       "        vertical-align: top;\n",
       "    }\n",
       "\n",
       "    .dataframe thead th {\n",
       "        text-align: right;\n",
       "    }\n",
       "</style>\n",
       "<table border=\"1\" class=\"dataframe\">\n",
       "  <thead>\n",
       "    <tr style=\"text-align: right;\">\n",
       "      <th></th>\n",
       "      <th>Unnamed: 0</th>\n",
       "      <th>Age</th>\n",
       "      <th>G</th>\n",
       "      <th>GS</th>\n",
       "      <th>MP</th>\n",
       "      <th>OBPM</th>\n",
       "      <th>DBPM</th>\n",
       "      <th>ORtg</th>\n",
       "      <th>DRtg</th>\n",
       "      <th>Salary</th>\n",
       "      <th>Salary Adjusted</th>\n",
       "    </tr>\n",
       "    <tr>\n",
       "      <th>mins_bin</th>\n",
       "      <th></th>\n",
       "      <th></th>\n",
       "      <th></th>\n",
       "      <th></th>\n",
       "      <th></th>\n",
       "      <th></th>\n",
       "      <th></th>\n",
       "      <th></th>\n",
       "      <th></th>\n",
       "      <th></th>\n",
       "      <th></th>\n",
       "    </tr>\n",
       "  </thead>\n",
       "  <tbody>\n",
       "    <tr>\n",
       "      <th>(-0.001, 10.0]</th>\n",
       "      <td>398.762500</td>\n",
       "      <td>23.500000</td>\n",
       "      <td>32.500000</td>\n",
       "      <td>1.200000</td>\n",
       "      <td>7.597500</td>\n",
       "      <td>-2.661250</td>\n",
       "      <td>-0.327500</td>\n",
       "      <td>107.450000</td>\n",
       "      <td>111.662500</td>\n",
       "      <td>1632.249700</td>\n",
       "      <td>1824.506850</td>\n",
       "    </tr>\n",
       "    <tr>\n",
       "      <th>(10.0, 20.0]</th>\n",
       "      <td>444.017483</td>\n",
       "      <td>25.709790</td>\n",
       "      <td>48.545455</td>\n",
       "      <td>6.979021</td>\n",
       "      <td>15.633916</td>\n",
       "      <td>-1.897902</td>\n",
       "      <td>-0.041608</td>\n",
       "      <td>110.632867</td>\n",
       "      <td>112.297203</td>\n",
       "      <td>3290.211598</td>\n",
       "      <td>3680.213643</td>\n",
       "    </tr>\n",
       "    <tr>\n",
       "      <th>(20.0, 30.0]</th>\n",
       "      <td>428.229508</td>\n",
       "      <td>26.436066</td>\n",
       "      <td>57.921311</td>\n",
       "      <td>30.954098</td>\n",
       "      <td>25.080984</td>\n",
       "      <td>-0.676721</td>\n",
       "      <td>0.029836</td>\n",
       "      <td>113.249180</td>\n",
       "      <td>112.478689</td>\n",
       "      <td>8014.724157</td>\n",
       "      <td>8975.464554</td>\n",
       "    </tr>\n",
       "    <tr>\n",
       "      <th>(30.0, 40.0]</th>\n",
       "      <td>413.189189</td>\n",
       "      <td>26.059459</td>\n",
       "      <td>61.178378</td>\n",
       "      <td>59.070270</td>\n",
       "      <td>33.293514</td>\n",
       "      <td>2.050811</td>\n",
       "      <td>-0.036216</td>\n",
       "      <td>113.810811</td>\n",
       "      <td>112.378378</td>\n",
       "      <td>19466.810335</td>\n",
       "      <td>21796.503481</td>\n",
       "    </tr>\n",
       "  </tbody>\n",
       "</table>\n",
       "</div>"
      ],
      "text/plain": [
       "                Unnamed: 0        Age          G         GS         MP  \\\n",
       "mins_bin                                                                 \n",
       "(-0.001, 10.0]  398.762500  23.500000  32.500000   1.200000   7.597500   \n",
       "(10.0, 20.0]    444.017483  25.709790  48.545455   6.979021  15.633916   \n",
       "(20.0, 30.0]    428.229508  26.436066  57.921311  30.954098  25.080984   \n",
       "(30.0, 40.0]    413.189189  26.059459  61.178378  59.070270  33.293514   \n",
       "\n",
       "                    OBPM      DBPM        ORtg        DRtg        Salary  \\\n",
       "mins_bin                                                                   \n",
       "(-0.001, 10.0] -2.661250 -0.327500  107.450000  111.662500   1632.249700   \n",
       "(10.0, 20.0]   -1.897902 -0.041608  110.632867  112.297203   3290.211598   \n",
       "(20.0, 30.0]   -0.676721  0.029836  113.249180  112.478689   8014.724157   \n",
       "(30.0, 40.0]    2.050811 -0.036216  113.810811  112.378378  19466.810335   \n",
       "\n",
       "                Salary Adjusted  \n",
       "mins_bin                         \n",
       "(-0.001, 10.0]      1824.506850  \n",
       "(10.0, 20.0]        3680.213643  \n",
       "(20.0, 30.0]        8975.464554  \n",
       "(30.0, 40.0]       21796.503481  "
      ]
     },
     "execution_count": 103,
     "metadata": {},
     "output_type": "execute_result"
    }
   ],
   "source": [
    "df_1_mins"
   ]
  },
  {
   "cell_type": "code",
   "execution_count": 104,
   "id": "863d9a34",
   "metadata": {},
   "outputs": [
    {
     "data": {
      "image/png": "[encoded data removed]",
      "text/plain": [
       "<Figure size 720x360 with 1 Axes>"
      ]
     },
     "metadata": {
      "needs_background": "light"
     },
     "output_type": "display_data"
    }
   ],
   "source": [
    "plt.figure(figsize=(10, 5))\n",
    "plt.plot(list(df_1_mins.index.astype(str)), np.array(df_1_mins.ORtg), label='ORtg')\n",
    "plt.plot(list(df_1_mins.index.astype(str)), np.array(df_1_mins.DRtg), label='DRtg')\n",
    "plt.xlabel('Minutes')\n",
    "plt.ylabel('Offensive Rating/Defensive Rating')\n",
    "plt.legend()\n",
    "plt.show()"
   ]
  },
  {
   "cell_type": "code",
   "execution_count": 105,
   "id": "0e555ead",
   "metadata": {},
   "outputs": [
    {
     "data": {
      "image/png": "[encoded data removed]",
      "text/plain": [
       "<Figure size 720x360 with 1 Axes>"
      ]
     },
     "metadata": {
      "needs_background": "light"
     },
     "output_type": "display_data"
    }
   ],
   "source": [
    "plt.figure(figsize=(10, 5))\n",
    "plt.plot(list(df_1_mins.index.astype(str)), np.array(df_1_mins.OBPM), label='OBPM')\n",
    "plt.plot(list(df_1_mins.index.astype(str)), np.array(df_1_mins.DBPM), label='DBPM')\n",
    "plt.xlabel('Minutes')\n",
    "plt.ylabel('Offensive/Defensive Box Plus Minus')\n",
    "plt.legend()\n",
    "plt.show()"
   ]
  },
  {
   "cell_type": "markdown",
   "id": "c2b72812",
   "metadata": {},
   "source": [
    "It was interesting to see that defensive rating/box plus minus remains relatively the same despite the minutes"
   ]
  },
  {
   "cell_type": "code",
   "execution_count": 106,
   "id": "71a46363",
   "metadata": {},
   "outputs": [
    {
     "data": {
      "image/png": "[encoded data removed]",
      "text/plain": [
       "<Figure size 720x360 with 1 Axes>"
      ]
     },
     "metadata": {
      "needs_background": "light"
     },
     "output_type": "display_data"
    }
   ],
   "source": [
    "plt.figure(figsize=(10, 5))\n",
    "plt.plot(list(df_1_mins.index.astype(str)), np.array(df_1_mins['Salary Adjusted']))\n",
    "plt.xlabel('Minutes')\n",
    "plt.ylabel('Salary Adjusted')\n",
    "plt.show()"
   ]
  },
  {
   "cell_type": "code",
   "execution_count": 107,
   "id": "0f86a6c5",
   "metadata": {},
   "outputs": [],
   "source": [
    "df_1_g = df_1.groupby(['games_bin']).mean()"
   ]
  },
  {
   "cell_type": "code",
   "execution_count": 108,
   "id": "e40a8233",
   "metadata": {},
   "outputs": [
    {
     "data": {
      "text/html": [
       "<div>\n",
       "<style scoped>\n",
       "    .dataframe tbody tr th:only-of-type {\n",
       "        vertical-align: middle;\n",
       "    }\n",
       "\n",
       "    .dataframe tbody tr th {\n",
       "        vertical-align: top;\n",
       "    }\n",
       "\n",
       "    .dataframe thead th {\n",
       "        text-align: right;\n",
       "    }\n",
       "</style>\n",
       "<table border=\"1\" class=\"dataframe\">\n",
       "  <thead>\n",
       "    <tr style=\"text-align: right;\">\n",
       "      <th></th>\n",
       "      <th>Unnamed: 0</th>\n",
       "      <th>Age</th>\n",
       "      <th>G</th>\n",
       "      <th>GS</th>\n",
       "      <th>MP</th>\n",
       "      <th>OBPM</th>\n",
       "      <th>DBPM</th>\n",
       "      <th>ORtg</th>\n",
       "      <th>DRtg</th>\n",
       "      <th>Salary</th>\n",
       "      <th>Salary Adjusted</th>\n",
       "    </tr>\n",
       "    <tr>\n",
       "      <th>games_bin</th>\n",
       "      <th></th>\n",
       "      <th></th>\n",
       "      <th></th>\n",
       "      <th></th>\n",
       "      <th></th>\n",
       "      <th></th>\n",
       "      <th></th>\n",
       "      <th></th>\n",
       "      <th></th>\n",
       "      <th></th>\n",
       "      <th></th>\n",
       "    </tr>\n",
       "  </thead>\n",
       "  <tbody>\n",
       "    <tr>\n",
       "      <th>(19.999, 35.0]</th>\n",
       "      <td>399.335616</td>\n",
       "      <td>25.082192</td>\n",
       "      <td>27.780822</td>\n",
       "      <td>6.102740</td>\n",
       "      <td>15.006164</td>\n",
       "      <td>-2.267808</td>\n",
       "      <td>-0.413699</td>\n",
       "      <td>106.363014</td>\n",
       "      <td>112.773973</td>\n",
       "      <td>4924.009178</td>\n",
       "      <td>5520.660651</td>\n",
       "    </tr>\n",
       "    <tr>\n",
       "      <th>(35.0, 50.0]</th>\n",
       "      <td>400.540000</td>\n",
       "      <td>25.865000</td>\n",
       "      <td>43.325000</td>\n",
       "      <td>15.090000</td>\n",
       "      <td>19.243500</td>\n",
       "      <td>-1.188000</td>\n",
       "      <td>-0.129500</td>\n",
       "      <td>111.155000</td>\n",
       "      <td>112.645000</td>\n",
       "      <td>7489.527855</td>\n",
       "      <td>8456.028000</td>\n",
       "    </tr>\n",
       "    <tr>\n",
       "      <th>(50.0, 65.0]</th>\n",
       "      <td>404.676259</td>\n",
       "      <td>26.014388</td>\n",
       "      <td>58.269784</td>\n",
       "      <td>29.503597</td>\n",
       "      <td>23.818705</td>\n",
       "      <td>-0.313669</td>\n",
       "      <td>0.085971</td>\n",
       "      <td>112.784173</td>\n",
       "      <td>112.309353</td>\n",
       "      <td>9156.614860</td>\n",
       "      <td>10279.859712</td>\n",
       "    </tr>\n",
       "    <tr>\n",
       "      <th>(65.0, 82.0]</th>\n",
       "      <td>495.814655</td>\n",
       "      <td>26.077586</td>\n",
       "      <td>71.327586</td>\n",
       "      <td>44.612069</td>\n",
       "      <td>26.840086</td>\n",
       "      <td>0.315517</td>\n",
       "      <td>0.115086</td>\n",
       "      <td>115.168103</td>\n",
       "      <td>111.767241</td>\n",
       "      <td>10151.213065</td>\n",
       "      <td>11264.432879</td>\n",
       "    </tr>\n",
       "  </tbody>\n",
       "</table>\n",
       "</div>"
      ],
      "text/plain": [
       "                Unnamed: 0        Age          G         GS         MP  \\\n",
       "games_bin                                                                \n",
       "(19.999, 35.0]  399.335616  25.082192  27.780822   6.102740  15.006164   \n",
       "(35.0, 50.0]    400.540000  25.865000  43.325000  15.090000  19.243500   \n",
       "(50.0, 65.0]    404.676259  26.014388  58.269784  29.503597  23.818705   \n",
       "(65.0, 82.0]    495.814655  26.077586  71.327586  44.612069  26.840086   \n",
       "\n",
       "                    OBPM      DBPM        ORtg        DRtg        Salary  \\\n",
       "games_bin                                                                  \n",
       "(19.999, 35.0] -2.267808 -0.413699  106.363014  112.773973   4924.009178   \n",
       "(35.0, 50.0]   -1.188000 -0.129500  111.155000  112.645000   7489.527855   \n",
       "(50.0, 65.0]   -0.313669  0.085971  112.784173  112.309353   9156.614860   \n",
       "(65.0, 82.0]    0.315517  0.115086  115.168103  111.767241  10151.213065   \n",
       "\n",
       "                Salary Adjusted  \n",
       "games_bin                        \n",
       "(19.999, 35.0]      5520.660651  \n",
       "(35.0, 50.0]        8456.028000  \n",
       "(50.0, 65.0]       10279.859712  \n",
       "(65.0, 82.0]       11264.432879  "
      ]
     },
     "execution_count": 108,
     "metadata": {},
     "output_type": "execute_result"
    }
   ],
   "source": [
    "df_1_g"
   ]
  },
  {
   "cell_type": "code",
   "execution_count": 109,
   "id": "99bf2d92",
   "metadata": {},
   "outputs": [
    {
     "data": {
      "image/png": "[encoded data removed]",
      "text/plain": [
       "<Figure size 720x360 with 1 Axes>"
      ]
     },
     "metadata": {
      "needs_background": "light"
     },
     "output_type": "display_data"
    }
   ],
   "source": [
    "plt.figure(figsize=(10, 5))\n",
    "plt.plot(list(df_1_g.index.astype(str)), np.array(df_1_g['Salary Adjusted']))\n",
    "plt.xlabel('Games Played')\n",
    "plt.ylabel('Salary')\n",
    "plt.show()"
   ]
  },
  {
   "cell_type": "code",
   "execution_count": 110,
   "id": "d41618f6",
   "metadata": {},
   "outputs": [],
   "source": [
    "df_1_gs = df_1.groupby(['games_started_bin']).mean()"
   ]
  },
  {
   "cell_type": "code",
   "execution_count": 111,
   "id": "375ae49b",
   "metadata": {
    "scrolled": true
   },
   "outputs": [
    {
     "data": {
      "text/html": [
       "<div>\n",
       "<style scoped>\n",
       "    .dataframe tbody tr th:only-of-type {\n",
       "        vertical-align: middle;\n",
       "    }\n",
       "\n",
       "    .dataframe tbody tr th {\n",
       "        vertical-align: top;\n",
       "    }\n",
       "\n",
       "    .dataframe thead th {\n",
       "        text-align: right;\n",
       "    }\n",
       "</style>\n",
       "<table border=\"1\" class=\"dataframe\">\n",
       "  <thead>\n",
       "    <tr style=\"text-align: right;\">\n",
       "      <th></th>\n",
       "      <th>Unnamed: 0</th>\n",
       "      <th>Age</th>\n",
       "      <th>G</th>\n",
       "      <th>GS</th>\n",
       "      <th>MP</th>\n",
       "      <th>OBPM</th>\n",
       "      <th>DBPM</th>\n",
       "      <th>ORtg</th>\n",
       "      <th>DRtg</th>\n",
       "      <th>Salary</th>\n",
       "      <th>Salary Adjusted</th>\n",
       "    </tr>\n",
       "    <tr>\n",
       "      <th>games_started_bin</th>\n",
       "      <th></th>\n",
       "      <th></th>\n",
       "      <th></th>\n",
       "      <th></th>\n",
       "      <th></th>\n",
       "      <th></th>\n",
       "      <th></th>\n",
       "      <th></th>\n",
       "      <th></th>\n",
       "      <th></th>\n",
       "      <th></th>\n",
       "    </tr>\n",
       "  </thead>\n",
       "  <tbody>\n",
       "    <tr>\n",
       "      <th>(-0.001, 20.0]</th>\n",
       "      <td>434.095541</td>\n",
       "      <td>25.443737</td>\n",
       "      <td>47.053079</td>\n",
       "      <td>6.061571</td>\n",
       "      <td>16.272824</td>\n",
       "      <td>-1.730998</td>\n",
       "      <td>-0.114013</td>\n",
       "      <td>110.193206</td>\n",
       "      <td>112.377919</td>\n",
       "      <td>3761.454102</td>\n",
       "      <td>4207.484754</td>\n",
       "    </tr>\n",
       "    <tr>\n",
       "      <th>(20.0, 40.0]</th>\n",
       "      <td>406.349206</td>\n",
       "      <td>26.317460</td>\n",
       "      <td>53.095238</td>\n",
       "      <td>30.658730</td>\n",
       "      <td>25.350000</td>\n",
       "      <td>-0.612698</td>\n",
       "      <td>-0.190476</td>\n",
       "      <td>112.174603</td>\n",
       "      <td>113.158730</td>\n",
       "      <td>10117.326333</td>\n",
       "      <td>11354.552738</td>\n",
       "    </tr>\n",
       "    <tr>\n",
       "      <th>(40.0, 60.0]</th>\n",
       "      <td>351.617391</td>\n",
       "      <td>26.373913</td>\n",
       "      <td>57.156522</td>\n",
       "      <td>50.791304</td>\n",
       "      <td>30.231304</td>\n",
       "      <td>0.873043</td>\n",
       "      <td>0.082609</td>\n",
       "      <td>114.034783</td>\n",
       "      <td>112.373913</td>\n",
       "      <td>15360.415965</td>\n",
       "      <td>17321.410591</td>\n",
       "    </tr>\n",
       "    <tr>\n",
       "      <th>(60.0, 82.0]</th>\n",
       "      <td>485.034722</td>\n",
       "      <td>26.277778</td>\n",
       "      <td>69.743056</td>\n",
       "      <td>68.763889</td>\n",
       "      <td>31.617361</td>\n",
       "      <td>1.454167</td>\n",
       "      <td>0.225694</td>\n",
       "      <td>115.861111</td>\n",
       "      <td>111.354167</td>\n",
       "      <td>16003.857201</td>\n",
       "      <td>17805.627090</td>\n",
       "    </tr>\n",
       "  </tbody>\n",
       "</table>\n",
       "</div>"
      ],
      "text/plain": [
       "                   Unnamed: 0        Age          G         GS         MP  \\\n",
       "games_started_bin                                                           \n",
       "(-0.001, 20.0]     434.095541  25.443737  47.053079   6.061571  16.272824   \n",
       "(20.0, 40.0]       406.349206  26.317460  53.095238  30.658730  25.350000   \n",
       "(40.0, 60.0]       351.617391  26.373913  57.156522  50.791304  30.231304   \n",
       "(60.0, 82.0]       485.034722  26.277778  69.743056  68.763889  31.617361   \n",
       "\n",
       "                       OBPM      DBPM        ORtg        DRtg        Salary  \\\n",
       "games_started_bin                                                             \n",
       "(-0.001, 20.0]    -1.730998 -0.114013  110.193206  112.377919   3761.454102   \n",
       "(20.0, 40.0]      -0.612698 -0.190476  112.174603  113.158730  10117.326333   \n",
       "(40.0, 60.0]       0.873043  0.082609  114.034783  112.373913  15360.415965   \n",
       "(60.0, 82.0]       1.454167  0.225694  115.861111  111.354167  16003.857201   \n",
       "\n",
       "                   Salary Adjusted  \n",
       "games_started_bin                   \n",
       "(-0.001, 20.0]         4207.484754  \n",
       "(20.0, 40.0]          11354.552738  \n",
       "(40.0, 60.0]          17321.410591  \n",
       "(60.0, 82.0]          17805.627090  "
      ]
     },
     "execution_count": 111,
     "metadata": {},
     "output_type": "execute_result"
    }
   ],
   "source": [
    "df_1_gs"
   ]
  },
  {
   "cell_type": "code",
   "execution_count": 112,
   "id": "e6e81499",
   "metadata": {},
   "outputs": [
    {
     "data": {
      "image/png": "[encoded data removed]",
      "text/plain": [
       "<Figure size 720x360 with 1 Axes>"
      ]
     },
     "metadata": {
      "needs_background": "light"
     },
     "output_type": "display_data"
    }
   ],
   "source": [
    "plt.figure(figsize=(10, 5))\n",
    "plt.plot(list(df_1_gs.index.astype(str)), np.array(df_1_gs['Salary Adjusted']))\n",
    "plt.xlabel('Games Started')\n",
    "plt.ylabel('Salary')\n",
    "plt.show()"
   ]
  },
  {
   "cell_type": "code",
   "execution_count": 113,
   "id": "e91a59f2",
   "metadata": {},
   "outputs": [
    {
     "data": {
      "text/html": [
       "<div>\n",
       "<style scoped>\n",
       "    .dataframe tbody tr th:only-of-type {\n",
       "        vertical-align: middle;\n",
       "    }\n",
       "\n",
       "    .dataframe tbody tr th {\n",
       "        vertical-align: top;\n",
       "    }\n",
       "\n",
       "    .dataframe thead th {\n",
       "        text-align: right;\n",
       "    }\n",
       "</style>\n",
       "<table border=\"1\" class=\"dataframe\">\n",
       "  <thead>\n",
       "    <tr style=\"text-align: right;\">\n",
       "      <th></th>\n",
       "      <th>Salary Adjusted</th>\n",
       "    </tr>\n",
       "    <tr>\n",
       "      <th>age_bin</th>\n",
       "      <th></th>\n",
       "    </tr>\n",
       "  </thead>\n",
       "  <tbody>\n",
       "    <tr>\n",
       "      <th>(18, 21]</th>\n",
       "      <td>3921.837390</td>\n",
       "    </tr>\n",
       "    <tr>\n",
       "      <th>(21, 24]</th>\n",
       "      <td>5190.974181</td>\n",
       "    </tr>\n",
       "    <tr>\n",
       "      <th>(24, 27]</th>\n",
       "      <td>10351.423979</td>\n",
       "    </tr>\n",
       "    <tr>\n",
       "      <th>(27, 30]</th>\n",
       "      <td>13233.322241</td>\n",
       "    </tr>\n",
       "    <tr>\n",
       "      <th>(30, 33]</th>\n",
       "      <td>18199.996791</td>\n",
       "    </tr>\n",
       "    <tr>\n",
       "      <th>(33, 36]</th>\n",
       "      <td>12696.056091</td>\n",
       "    </tr>\n",
       "    <tr>\n",
       "      <th>(36, 39]</th>\n",
       "      <td>16978.598000</td>\n",
       "    </tr>\n",
       "  </tbody>\n",
       "</table>\n",
       "</div>"
      ],
      "text/plain": [
       "          Salary Adjusted\n",
       "age_bin                  \n",
       "(18, 21]      3921.837390\n",
       "(21, 24]      5190.974181\n",
       "(24, 27]     10351.423979\n",
       "(27, 30]     13233.322241\n",
       "(30, 33]     18199.996791\n",
       "(33, 36]     12696.056091\n",
       "(36, 39]     16978.598000"
      ]
     },
     "execution_count": 113,
     "metadata": {},
     "output_type": "execute_result"
    }
   ],
   "source": [
    "pd.pivot_table(df_1, index='age_bin', values='Salary Adjusted')"
   ]
  },
  {
   "cell_type": "code",
   "execution_count": 114,
   "id": "5714efa0",
   "metadata": {},
   "outputs": [
    {
     "data": {
      "text/html": [
       "<div>\n",
       "<style scoped>\n",
       "    .dataframe tbody tr th:only-of-type {\n",
       "        vertical-align: middle;\n",
       "    }\n",
       "\n",
       "    .dataframe tbody tr th {\n",
       "        vertical-align: top;\n",
       "    }\n",
       "\n",
       "    .dataframe thead th {\n",
       "        text-align: right;\n",
       "    }\n",
       "</style>\n",
       "<table border=\"1\" class=\"dataframe\">\n",
       "  <thead>\n",
       "    <tr style=\"text-align: right;\">\n",
       "      <th></th>\n",
       "      <th></th>\n",
       "      <th>Salary Adjusted</th>\n",
       "    </tr>\n",
       "    <tr>\n",
       "      <th>age_bin</th>\n",
       "      <th>games_bin</th>\n",
       "      <th></th>\n",
       "    </tr>\n",
       "  </thead>\n",
       "  <tbody>\n",
       "    <tr>\n",
       "      <th rowspan=\"4\" valign=\"top\">(18, 21]</th>\n",
       "      <th>(19.999, 35.0]</th>\n",
       "      <td>2383.164862</td>\n",
       "    </tr>\n",
       "    <tr>\n",
       "      <th>(35.0, 50.0]</th>\n",
       "      <td>2955.576647</td>\n",
       "    </tr>\n",
       "    <tr>\n",
       "      <th>(50.0, 65.0]</th>\n",
       "      <td>4425.525625</td>\n",
       "    </tr>\n",
       "    <tr>\n",
       "      <th>(65.0, 82.0]</th>\n",
       "      <td>5659.014333</td>\n",
       "    </tr>\n",
       "    <tr>\n",
       "      <th rowspan=\"4\" valign=\"top\">(21, 24]</th>\n",
       "      <th>(19.999, 35.0]</th>\n",
       "      <td>2464.230158</td>\n",
       "    </tr>\n",
       "    <tr>\n",
       "      <th>(35.0, 50.0]</th>\n",
       "      <td>4657.395000</td>\n",
       "    </tr>\n",
       "    <tr>\n",
       "      <th>(50.0, 65.0]</th>\n",
       "      <td>6961.273326</td>\n",
       "    </tr>\n",
       "    <tr>\n",
       "      <th>(65.0, 82.0]</th>\n",
       "      <td>5774.460981</td>\n",
       "    </tr>\n",
       "    <tr>\n",
       "      <th rowspan=\"4\" valign=\"top\">(24, 27]</th>\n",
       "      <th>(19.999, 35.0]</th>\n",
       "      <td>4202.312826</td>\n",
       "    </tr>\n",
       "    <tr>\n",
       "      <th>(35.0, 50.0]</th>\n",
       "      <td>8560.926239</td>\n",
       "    </tr>\n",
       "    <tr>\n",
       "      <th>(50.0, 65.0]</th>\n",
       "      <td>10334.078750</td>\n",
       "    </tr>\n",
       "    <tr>\n",
       "      <th>(65.0, 82.0]</th>\n",
       "      <td>13919.103111</td>\n",
       "    </tr>\n",
       "    <tr>\n",
       "      <th rowspan=\"4\" valign=\"top\">(27, 30]</th>\n",
       "      <th>(19.999, 35.0]</th>\n",
       "      <td>7761.993857</td>\n",
       "    </tr>\n",
       "    <tr>\n",
       "      <th>(35.0, 50.0]</th>\n",
       "      <td>13652.890108</td>\n",
       "    </tr>\n",
       "    <tr>\n",
       "      <th>(50.0, 65.0]</th>\n",
       "      <td>13066.074979</td>\n",
       "    </tr>\n",
       "    <tr>\n",
       "      <th>(65.0, 82.0]</th>\n",
       "      <td>14735.549522</td>\n",
       "    </tr>\n",
       "    <tr>\n",
       "      <th rowspan=\"4\" valign=\"top\">(30, 33]</th>\n",
       "      <th>(19.999, 35.0]</th>\n",
       "      <td>18918.098067</td>\n",
       "    </tr>\n",
       "    <tr>\n",
       "      <th>(35.0, 50.0]</th>\n",
       "      <td>14554.991600</td>\n",
       "    </tr>\n",
       "    <tr>\n",
       "      <th>(50.0, 65.0]</th>\n",
       "      <td>22245.470793</td>\n",
       "    </tr>\n",
       "    <tr>\n",
       "      <th>(65.0, 82.0]</th>\n",
       "      <td>16155.916741</td>\n",
       "    </tr>\n",
       "    <tr>\n",
       "      <th rowspan=\"4\" valign=\"top\">(33, 36]</th>\n",
       "      <th>(19.999, 35.0]</th>\n",
       "      <td>14924.279143</td>\n",
       "    </tr>\n",
       "    <tr>\n",
       "      <th>(35.0, 50.0]</th>\n",
       "      <td>14406.552818</td>\n",
       "    </tr>\n",
       "    <tr>\n",
       "      <th>(50.0, 65.0]</th>\n",
       "      <td>9938.791588</td>\n",
       "    </tr>\n",
       "    <tr>\n",
       "      <th>(65.0, 82.0]</th>\n",
       "      <td>14080.552889</td>\n",
       "    </tr>\n",
       "    <tr>\n",
       "      <th rowspan=\"3\" valign=\"top\">(36, 39]</th>\n",
       "      <th>(19.999, 35.0]</th>\n",
       "      <td>2881.021000</td>\n",
       "    </tr>\n",
       "    <tr>\n",
       "      <th>(50.0, 65.0]</th>\n",
       "      <td>31076.175000</td>\n",
       "    </tr>\n",
       "    <tr>\n",
       "      <th>(65.0, 82.0]</th>\n",
       "      <td>2881.021000</td>\n",
       "    </tr>\n",
       "  </tbody>\n",
       "</table>\n",
       "</div>"
      ],
      "text/plain": [
       "                         Salary Adjusted\n",
       "age_bin  games_bin                      \n",
       "(18, 21] (19.999, 35.0]      2383.164862\n",
       "         (35.0, 50.0]        2955.576647\n",
       "         (50.0, 65.0]        4425.525625\n",
       "         (65.0, 82.0]        5659.014333\n",
       "(21, 24] (19.999, 35.0]      2464.230158\n",
       "         (35.0, 50.0]        4657.395000\n",
       "         (50.0, 65.0]        6961.273326\n",
       "         (65.0, 82.0]        5774.460981\n",
       "(24, 27] (19.999, 35.0]      4202.312826\n",
       "         (35.0, 50.0]        8560.926239\n",
       "         (50.0, 65.0]       10334.078750\n",
       "         (65.0, 82.0]       13919.103111\n",
       "(27, 30] (19.999, 35.0]      7761.993857\n",
       "         (35.0, 50.0]       13652.890108\n",
       "         (50.0, 65.0]       13066.074979\n",
       "         (65.0, 82.0]       14735.549522\n",
       "(30, 33] (19.999, 35.0]     18918.098067\n",
       "         (35.0, 50.0]       14554.991600\n",
       "         (50.0, 65.0]       22245.470793\n",
       "         (65.0, 82.0]       16155.916741\n",
       "(33, 36] (19.999, 35.0]     14924.279143\n",
       "         (35.0, 50.0]       14406.552818\n",
       "         (50.0, 65.0]        9938.791588\n",
       "         (65.0, 82.0]       14080.552889\n",
       "(36, 39] (19.999, 35.0]      2881.021000\n",
       "         (50.0, 65.0]       31076.175000\n",
       "         (65.0, 82.0]        2881.021000"
      ]
     },
     "execution_count": 114,
     "metadata": {},
     "output_type": "execute_result"
    }
   ],
   "source": [
    "pd.pivot_table(df_1, index=['age_bin', 'games_bin'], values='Salary Adjusted')"
   ]
  },
  {
   "cell_type": "code",
   "execution_count": 115,
   "id": "64c2a430",
   "metadata": {},
   "outputs": [
    {
     "data": {
      "text/html": [
       "<div>\n",
       "<style scoped>\n",
       "    .dataframe tbody tr th:only-of-type {\n",
       "        vertical-align: middle;\n",
       "    }\n",
       "\n",
       "    .dataframe tbody tr th {\n",
       "        vertical-align: top;\n",
       "    }\n",
       "\n",
       "    .dataframe thead th {\n",
       "        text-align: right;\n",
       "    }\n",
       "</style>\n",
       "<table border=\"1\" class=\"dataframe\">\n",
       "  <thead>\n",
       "    <tr style=\"text-align: right;\">\n",
       "      <th></th>\n",
       "      <th></th>\n",
       "      <th>Salary Adjusted</th>\n",
       "    </tr>\n",
       "    <tr>\n",
       "      <th>age_bin</th>\n",
       "      <th>mins_bin</th>\n",
       "      <th></th>\n",
       "    </tr>\n",
       "  </thead>\n",
       "  <tbody>\n",
       "    <tr>\n",
       "      <th rowspan=\"4\" valign=\"top\">(18, 21]</th>\n",
       "      <th>(-0.001, 10.0]</th>\n",
       "      <td>1741.911500</td>\n",
       "    </tr>\n",
       "    <tr>\n",
       "      <th>(10.0, 20.0]</th>\n",
       "      <td>2974.993681</td>\n",
       "    </tr>\n",
       "    <tr>\n",
       "      <th>(20.0, 30.0]</th>\n",
       "      <td>4312.144525</td>\n",
       "    </tr>\n",
       "    <tr>\n",
       "      <th>(30.0, 40.0]</th>\n",
       "      <td>7170.141000</td>\n",
       "    </tr>\n",
       "    <tr>\n",
       "      <th rowspan=\"4\" valign=\"top\">(21, 24]</th>\n",
       "      <th>(-0.001, 10.0]</th>\n",
       "      <td>1633.048167</td>\n",
       "    </tr>\n",
       "    <tr>\n",
       "      <th>(10.0, 20.0]</th>\n",
       "      <td>2647.863141</td>\n",
       "    </tr>\n",
       "    <tr>\n",
       "      <th>(20.0, 30.0]</th>\n",
       "      <td>4536.057080</td>\n",
       "    </tr>\n",
       "    <tr>\n",
       "      <th>(30.0, 40.0]</th>\n",
       "      <td>14328.092733</td>\n",
       "    </tr>\n",
       "    <tr>\n",
       "      <th rowspan=\"4\" valign=\"top\">(24, 27]</th>\n",
       "      <th>(-0.001, 10.0]</th>\n",
       "      <td>1774.522889</td>\n",
       "    </tr>\n",
       "    <tr>\n",
       "      <th>(10.0, 20.0]</th>\n",
       "      <td>2745.942629</td>\n",
       "    </tr>\n",
       "    <tr>\n",
       "      <th>(20.0, 30.0]</th>\n",
       "      <td>9291.081104</td>\n",
       "    </tr>\n",
       "    <tr>\n",
       "      <th>(30.0, 40.0]</th>\n",
       "      <td>22746.922500</td>\n",
       "    </tr>\n",
       "    <tr>\n",
       "      <th rowspan=\"4\" valign=\"top\">(27, 30]</th>\n",
       "      <th>(-0.001, 10.0]</th>\n",
       "      <td>2044.406000</td>\n",
       "    </tr>\n",
       "    <tr>\n",
       "      <th>(10.0, 20.0]</th>\n",
       "      <td>5420.699154</td>\n",
       "    </tr>\n",
       "    <tr>\n",
       "      <th>(20.0, 30.0]</th>\n",
       "      <td>10205.944984</td>\n",
       "    </tr>\n",
       "    <tr>\n",
       "      <th>(30.0, 40.0]</th>\n",
       "      <td>29170.530056</td>\n",
       "    </tr>\n",
       "    <tr>\n",
       "      <th rowspan=\"4\" valign=\"top\">(30, 33]</th>\n",
       "      <th>(-0.001, 10.0]</th>\n",
       "      <td>3770.847500</td>\n",
       "    </tr>\n",
       "    <tr>\n",
       "      <th>(10.0, 20.0]</th>\n",
       "      <td>6764.575143</td>\n",
       "    </tr>\n",
       "    <tr>\n",
       "      <th>(20.0, 30.0]</th>\n",
       "      <td>18512.825472</td>\n",
       "    </tr>\n",
       "    <tr>\n",
       "      <th>(30.0, 40.0]</th>\n",
       "      <td>34141.152043</td>\n",
       "    </tr>\n",
       "    <tr>\n",
       "      <th rowspan=\"3\" valign=\"top\">(33, 36]</th>\n",
       "      <th>(10.0, 20.0]</th>\n",
       "      <td>5598.126765</td>\n",
       "    </tr>\n",
       "    <tr>\n",
       "      <th>(20.0, 30.0]</th>\n",
       "      <td>12398.453273</td>\n",
       "    </tr>\n",
       "    <tr>\n",
       "      <th>(30.0, 40.0]</th>\n",
       "      <td>38138.468200</td>\n",
       "    </tr>\n",
       "    <tr>\n",
       "      <th rowspan=\"3\" valign=\"top\">(36, 39]</th>\n",
       "      <th>(10.0, 20.0]</th>\n",
       "      <td>2881.021000</td>\n",
       "    </tr>\n",
       "    <tr>\n",
       "      <th>(20.0, 30.0]</th>\n",
       "      <td>10060.985000</td>\n",
       "    </tr>\n",
       "    <tr>\n",
       "      <th>(30.0, 40.0]</th>\n",
       "      <td>44911.401000</td>\n",
       "    </tr>\n",
       "  </tbody>\n",
       "</table>\n",
       "</div>"
      ],
      "text/plain": [
       "                         Salary Adjusted\n",
       "age_bin  mins_bin                       \n",
       "(18, 21] (-0.001, 10.0]      1741.911500\n",
       "         (10.0, 20.0]        2974.993681\n",
       "         (20.0, 30.0]        4312.144525\n",
       "         (30.0, 40.0]        7170.141000\n",
       "(21, 24] (-0.001, 10.0]      1633.048167\n",
       "         (10.0, 20.0]        2647.863141\n",
       "         (20.0, 30.0]        4536.057080\n",
       "         (30.0, 40.0]       14328.092733\n",
       "(24, 27] (-0.001, 10.0]      1774.522889\n",
       "         (10.0, 20.0]        2745.942629\n",
       "         (20.0, 30.0]        9291.081104\n",
       "         (30.0, 40.0]       22746.922500\n",
       "(27, 30] (-0.001, 10.0]      2044.406000\n",
       "         (10.0, 20.0]        5420.699154\n",
       "         (20.0, 30.0]       10205.944984\n",
       "         (30.0, 40.0]       29170.530056\n",
       "(30, 33] (-0.001, 10.0]      3770.847500\n",
       "         (10.0, 20.0]        6764.575143\n",
       "         (20.0, 30.0]       18512.825472\n",
       "         (30.0, 40.0]       34141.152043\n",
       "(33, 36] (10.0, 20.0]        5598.126765\n",
       "         (20.0, 30.0]       12398.453273\n",
       "         (30.0, 40.0]       38138.468200\n",
       "(36, 39] (10.0, 20.0]        2881.021000\n",
       "         (20.0, 30.0]       10060.985000\n",
       "         (30.0, 40.0]       44911.401000"
      ]
     },
     "execution_count": 115,
     "metadata": {},
     "output_type": "execute_result"
    }
   ],
   "source": [
    "pd.pivot_table(df_1, index=['age_bin', 'mins_bin'], values='Salary Adjusted')"
   ]
  },
  {
   "cell_type": "markdown",
   "id": "a9ae2a26",
   "metadata": {},
   "source": [
    "Players who can still contribute as a starter with starter minutes (30-ish) earn a lot more even if they turn older."
   ]
  },
  {
   "cell_type": "code",
   "execution_count": 116,
   "id": "a2625451",
   "metadata": {},
   "outputs": [
    {
     "data": {
      "text/html": [
       "<div>\n",
       "<style scoped>\n",
       "    .dataframe tbody tr th:only-of-type {\n",
       "        vertical-align: middle;\n",
       "    }\n",
       "\n",
       "    .dataframe tbody tr th {\n",
       "        vertical-align: top;\n",
       "    }\n",
       "\n",
       "    .dataframe thead th {\n",
       "        text-align: right;\n",
       "    }\n",
       "</style>\n",
       "<table border=\"1\" class=\"dataframe\">\n",
       "  <thead>\n",
       "    <tr style=\"text-align: right;\">\n",
       "      <th></th>\n",
       "      <th></th>\n",
       "      <th>Salary Adjusted</th>\n",
       "    </tr>\n",
       "    <tr>\n",
       "      <th>games_bin</th>\n",
       "      <th>mins_bin</th>\n",
       "      <th></th>\n",
       "    </tr>\n",
       "  </thead>\n",
       "  <tbody>\n",
       "    <tr>\n",
       "      <th rowspan=\"4\" valign=\"top\">(19.999, 35.0]</th>\n",
       "      <th>(-0.001, 10.0]</th>\n",
       "      <td>1826.552415</td>\n",
       "    </tr>\n",
       "    <tr>\n",
       "      <th>(10.0, 20.0]</th>\n",
       "      <td>2687.129000</td>\n",
       "    </tr>\n",
       "    <tr>\n",
       "      <th>(20.0, 30.0]</th>\n",
       "      <td>11943.970821</td>\n",
       "    </tr>\n",
       "    <tr>\n",
       "      <th>(30.0, 40.0]</th>\n",
       "      <td>27701.455125</td>\n",
       "    </tr>\n",
       "    <tr>\n",
       "      <th rowspan=\"4\" valign=\"top\">(35.0, 50.0]</th>\n",
       "      <th>(-0.001, 10.0]</th>\n",
       "      <td>1812.556042</td>\n",
       "    </tr>\n",
       "    <tr>\n",
       "      <th>(10.0, 20.0]</th>\n",
       "      <td>3514.719067</td>\n",
       "    </tr>\n",
       "    <tr>\n",
       "      <th>(20.0, 30.0]</th>\n",
       "      <td>10162.312127</td>\n",
       "    </tr>\n",
       "    <tr>\n",
       "      <th>(30.0, 40.0]</th>\n",
       "      <td>28944.524750</td>\n",
       "    </tr>\n",
       "    <tr>\n",
       "      <th rowspan=\"4\" valign=\"top\">(50.0, 65.0]</th>\n",
       "      <th>(-0.001, 10.0]</th>\n",
       "      <td>1883.975000</td>\n",
       "    </tr>\n",
       "    <tr>\n",
       "      <th>(10.0, 20.0]</th>\n",
       "      <td>4159.768650</td>\n",
       "    </tr>\n",
       "    <tr>\n",
       "      <th>(20.0, 30.0]</th>\n",
       "      <td>8486.449959</td>\n",
       "    </tr>\n",
       "    <tr>\n",
       "      <th>(30.0, 40.0]</th>\n",
       "      <td>21513.794703</td>\n",
       "    </tr>\n",
       "    <tr>\n",
       "      <th rowspan=\"3\" valign=\"top\">(65.0, 82.0]</th>\n",
       "      <th>(10.0, 20.0]</th>\n",
       "      <td>4273.204892</td>\n",
       "    </tr>\n",
       "    <tr>\n",
       "      <th>(20.0, 30.0]</th>\n",
       "      <td>8027.480569</td>\n",
       "    </tr>\n",
       "    <tr>\n",
       "      <th>(30.0, 40.0]</th>\n",
       "      <td>19291.798747</td>\n",
       "    </tr>\n",
       "  </tbody>\n",
       "</table>\n",
       "</div>"
      ],
      "text/plain": [
       "                               Salary Adjusted\n",
       "games_bin      mins_bin                       \n",
       "(19.999, 35.0] (-0.001, 10.0]      1826.552415\n",
       "               (10.0, 20.0]        2687.129000\n",
       "               (20.0, 30.0]       11943.970821\n",
       "               (30.0, 40.0]       27701.455125\n",
       "(35.0, 50.0]   (-0.001, 10.0]      1812.556042\n",
       "               (10.0, 20.0]        3514.719067\n",
       "               (20.0, 30.0]       10162.312127\n",
       "               (30.0, 40.0]       28944.524750\n",
       "(50.0, 65.0]   (-0.001, 10.0]      1883.975000\n",
       "               (10.0, 20.0]        4159.768650\n",
       "               (20.0, 30.0]        8486.449959\n",
       "               (30.0, 40.0]       21513.794703\n",
       "(65.0, 82.0]   (10.0, 20.0]        4273.204892\n",
       "               (20.0, 30.0]        8027.480569\n",
       "               (30.0, 40.0]       19291.798747"
      ]
     },
     "execution_count": 116,
     "metadata": {},
     "output_type": "execute_result"
    }
   ],
   "source": [
    "pd.pivot_table(df_1, index=['games_bin', 'mins_bin'], values='Salary Adjusted')"
   ]
  },
  {
   "cell_type": "code",
   "execution_count": 117,
   "id": "e757d3f7",
   "metadata": {},
   "outputs": [
    {
     "data": {
      "text/html": [
       "<div>\n",
       "<style scoped>\n",
       "    .dataframe tbody tr th:only-of-type {\n",
       "        vertical-align: middle;\n",
       "    }\n",
       "\n",
       "    .dataframe tbody tr th {\n",
       "        vertical-align: top;\n",
       "    }\n",
       "\n",
       "    .dataframe thead th {\n",
       "        text-align: right;\n",
       "    }\n",
       "</style>\n",
       "<table border=\"1\" class=\"dataframe\">\n",
       "  <thead>\n",
       "    <tr style=\"text-align: right;\">\n",
       "      <th></th>\n",
       "      <th></th>\n",
       "      <th>Salary Adjusted</th>\n",
       "    </tr>\n",
       "    <tr>\n",
       "      <th>Pos</th>\n",
       "      <th>age_bin</th>\n",
       "      <th></th>\n",
       "    </tr>\n",
       "  </thead>\n",
       "  <tbody>\n",
       "    <tr>\n",
       "      <th rowspan=\"6\" valign=\"top\">Center</th>\n",
       "      <th>(18, 21]</th>\n",
       "      <td>4004.304625</td>\n",
       "    </tr>\n",
       "    <tr>\n",
       "      <th>(21, 24]</th>\n",
       "      <td>5091.428511</td>\n",
       "    </tr>\n",
       "    <tr>\n",
       "      <th>(24, 27]</th>\n",
       "      <td>14708.133595</td>\n",
       "    </tr>\n",
       "    <tr>\n",
       "      <th>(27, 30]</th>\n",
       "      <td>12092.307323</td>\n",
       "    </tr>\n",
       "    <tr>\n",
       "      <th>(30, 33]</th>\n",
       "      <td>10470.211087</td>\n",
       "    </tr>\n",
       "    <tr>\n",
       "      <th>(33, 36]</th>\n",
       "      <td>9873.603833</td>\n",
       "    </tr>\n",
       "    <tr>\n",
       "      <th rowspan=\"7\" valign=\"top\">Forward</th>\n",
       "      <th>(18, 21]</th>\n",
       "      <td>3662.248638</td>\n",
       "    </tr>\n",
       "    <tr>\n",
       "      <th>(21, 24]</th>\n",
       "      <td>5245.171461</td>\n",
       "    </tr>\n",
       "    <tr>\n",
       "      <th>(24, 27]</th>\n",
       "      <td>9447.228650</td>\n",
       "    </tr>\n",
       "    <tr>\n",
       "      <th>(27, 30]</th>\n",
       "      <td>13042.458404</td>\n",
       "    </tr>\n",
       "    <tr>\n",
       "      <th>(30, 33]</th>\n",
       "      <td>20137.631571</td>\n",
       "    </tr>\n",
       "    <tr>\n",
       "      <th>(33, 36]</th>\n",
       "      <td>8299.566154</td>\n",
       "    </tr>\n",
       "    <tr>\n",
       "      <th>(36, 39]</th>\n",
       "      <td>16978.598000</td>\n",
       "    </tr>\n",
       "    <tr>\n",
       "      <th rowspan=\"6\" valign=\"top\">Guard</th>\n",
       "      <th>(18, 21]</th>\n",
       "      <td>4143.396613</td>\n",
       "    </tr>\n",
       "    <tr>\n",
       "      <th>(21, 24]</th>\n",
       "      <td>5187.956614</td>\n",
       "    </tr>\n",
       "    <tr>\n",
       "      <th>(24, 27]</th>\n",
       "      <td>9099.837648</td>\n",
       "    </tr>\n",
       "    <tr>\n",
       "      <th>(27, 30]</th>\n",
       "      <td>13963.909048</td>\n",
       "    </tr>\n",
       "    <tr>\n",
       "      <th>(30, 33]</th>\n",
       "      <td>21532.356000</td>\n",
       "    </tr>\n",
       "    <tr>\n",
       "      <th>(33, 36]</th>\n",
       "      <td>17486.782211</td>\n",
       "    </tr>\n",
       "  </tbody>\n",
       "</table>\n",
       "</div>"
      ],
      "text/plain": [
       "                  Salary Adjusted\n",
       "Pos     age_bin                  \n",
       "Center  (18, 21]      4004.304625\n",
       "        (21, 24]      5091.428511\n",
       "        (24, 27]     14708.133595\n",
       "        (27, 30]     12092.307323\n",
       "        (30, 33]     10470.211087\n",
       "        (33, 36]      9873.603833\n",
       "Forward (18, 21]      3662.248638\n",
       "        (21, 24]      5245.171461\n",
       "        (24, 27]      9447.228650\n",
       "        (27, 30]     13042.458404\n",
       "        (30, 33]     20137.631571\n",
       "        (33, 36]      8299.566154\n",
       "        (36, 39]     16978.598000\n",
       "Guard   (18, 21]      4143.396613\n",
       "        (21, 24]      5187.956614\n",
       "        (24, 27]      9099.837648\n",
       "        (27, 30]     13963.909048\n",
       "        (30, 33]     21532.356000\n",
       "        (33, 36]     17486.782211"
      ]
     },
     "execution_count": 117,
     "metadata": {},
     "output_type": "execute_result"
    }
   ],
   "source": [
    "pd.pivot_table(df_1, index=['Pos', 'age_bin'], values='Salary Adjusted')"
   ]
  },
  {
   "cell_type": "code",
   "execution_count": 118,
   "id": "a7dd1b45",
   "metadata": {},
   "outputs": [
    {
     "data": {
      "text/html": [
       "<div>\n",
       "<style scoped>\n",
       "    .dataframe tbody tr th:only-of-type {\n",
       "        vertical-align: middle;\n",
       "    }\n",
       "\n",
       "    .dataframe tbody tr th {\n",
       "        vertical-align: top;\n",
       "    }\n",
       "\n",
       "    .dataframe thead th {\n",
       "        text-align: right;\n",
       "    }\n",
       "</style>\n",
       "<table border=\"1\" class=\"dataframe\">\n",
       "  <thead>\n",
       "    <tr style=\"text-align: right;\">\n",
       "      <th></th>\n",
       "      <th></th>\n",
       "      <th>Salary Adjusted</th>\n",
       "    </tr>\n",
       "    <tr>\n",
       "      <th>Pos</th>\n",
       "      <th>games_bin</th>\n",
       "      <th></th>\n",
       "    </tr>\n",
       "  </thead>\n",
       "  <tbody>\n",
       "    <tr>\n",
       "      <th rowspan=\"4\" valign=\"top\">Center</th>\n",
       "      <th>(19.999, 35.0]</th>\n",
       "      <td>5256.402667</td>\n",
       "    </tr>\n",
       "    <tr>\n",
       "      <th>(35.0, 50.0]</th>\n",
       "      <td>8683.211480</td>\n",
       "    </tr>\n",
       "    <tr>\n",
       "      <th>(50.0, 65.0]</th>\n",
       "      <td>9549.910833</td>\n",
       "    </tr>\n",
       "    <tr>\n",
       "      <th>(65.0, 82.0]</th>\n",
       "      <td>12711.109063</td>\n",
       "    </tr>\n",
       "    <tr>\n",
       "      <th rowspan=\"4\" valign=\"top\">Forward</th>\n",
       "      <th>(19.999, 35.0]</th>\n",
       "      <td>5368.867459</td>\n",
       "    </tr>\n",
       "    <tr>\n",
       "      <th>(35.0, 50.0]</th>\n",
       "      <td>6525.191292</td>\n",
       "    </tr>\n",
       "    <tr>\n",
       "      <th>(50.0, 65.0]</th>\n",
       "      <td>11364.229425</td>\n",
       "    </tr>\n",
       "    <tr>\n",
       "      <th>(65.0, 82.0]</th>\n",
       "      <td>10781.735435</td>\n",
       "    </tr>\n",
       "    <tr>\n",
       "      <th rowspan=\"4\" valign=\"top\">Guard</th>\n",
       "      <th>(19.999, 35.0]</th>\n",
       "      <td>5776.424197</td>\n",
       "    </tr>\n",
       "    <tr>\n",
       "      <th>(35.0, 50.0]</th>\n",
       "      <td>10092.708372</td>\n",
       "    </tr>\n",
       "    <tr>\n",
       "      <th>(50.0, 65.0]</th>\n",
       "      <td>9631.510969</td>\n",
       "    </tr>\n",
       "    <tr>\n",
       "      <th>(65.0, 82.0]</th>\n",
       "      <td>10992.342750</td>\n",
       "    </tr>\n",
       "  </tbody>\n",
       "</table>\n",
       "</div>"
      ],
      "text/plain": [
       "                        Salary Adjusted\n",
       "Pos     games_bin                      \n",
       "Center  (19.999, 35.0]      5256.402667\n",
       "        (35.0, 50.0]        8683.211480\n",
       "        (50.0, 65.0]        9549.910833\n",
       "        (65.0, 82.0]       12711.109063\n",
       "Forward (19.999, 35.0]      5368.867459\n",
       "        (35.0, 50.0]        6525.191292\n",
       "        (50.0, 65.0]       11364.229425\n",
       "        (65.0, 82.0]       10781.735435\n",
       "Guard   (19.999, 35.0]      5776.424197\n",
       "        (35.0, 50.0]       10092.708372\n",
       "        (50.0, 65.0]        9631.510969\n",
       "        (65.0, 82.0]       10992.342750"
      ]
     },
     "execution_count": 118,
     "metadata": {},
     "output_type": "execute_result"
    }
   ],
   "source": [
    "pd.pivot_table(df_1, index=['Pos', 'games_bin'], values='Salary Adjusted')"
   ]
  },
  {
   "cell_type": "markdown",
   "id": "54426353",
   "metadata": {},
   "source": [
    "The pivot tables support that players in their prime year do get paid more. "
   ]
  },
  {
   "cell_type": "code",
   "execution_count": 119,
   "id": "41971b4b",
   "metadata": {},
   "outputs": [],
   "source": [
    "df_1.to_csv('model_1_eda_data.csv')"
   ]
  },
  {
   "cell_type": "markdown",
   "id": "25bb55c0",
   "metadata": {},
   "source": [
    "# Model 2"
   ]
  },
  {
   "cell_type": "code",
   "execution_count": 120,
   "id": "3ff07358",
   "metadata": {},
   "outputs": [],
   "source": [
    "df_2 = pd.read_csv('data/model_2_clean.csv')"
   ]
  },
  {
   "cell_type": "code",
   "execution_count": 121,
   "id": "930b9aad",
   "metadata": {},
   "outputs": [],
   "source": [
    "df_2.Salary = df_2.Salary/1000\n",
    "df_2['Salary Adjusted'] = df_2['Salary Adjusted']/1000"
   ]
  },
  {
   "cell_type": "code",
   "execution_count": 122,
   "id": "7704ff86",
   "metadata": {},
   "outputs": [
    {
     "data": {
      "text/html": [
       "<div>\n",
       "<style scoped>\n",
       "    .dataframe tbody tr th:only-of-type {\n",
       "        vertical-align: middle;\n",
       "    }\n",
       "\n",
       "    .dataframe tbody tr th {\n",
       "        vertical-align: top;\n",
       "    }\n",
       "\n",
       "    .dataframe thead th {\n",
       "        text-align: right;\n",
       "    }\n",
       "</style>\n",
       "<table border=\"1\" class=\"dataframe\">\n",
       "  <thead>\n",
       "    <tr style=\"text-align: right;\">\n",
       "      <th></th>\n",
       "      <th>Unnamed: 0</th>\n",
       "      <th>Player</th>\n",
       "      <th>Pos</th>\n",
       "      <th>Age</th>\n",
       "      <th>G</th>\n",
       "      <th>GS</th>\n",
       "      <th>MP</th>\n",
       "      <th>eFG%</th>\n",
       "      <th>FTR</th>\n",
       "      <th>TRB%</th>\n",
       "      <th>TOV%</th>\n",
       "      <th>Salary</th>\n",
       "      <th>Salary Adjusted</th>\n",
       "    </tr>\n",
       "  </thead>\n",
       "  <tbody>\n",
       "    <tr>\n",
       "      <th>0</th>\n",
       "      <td>0</td>\n",
       "      <td>Precious Achiuwa</td>\n",
       "      <td>Forward</td>\n",
       "      <td>21.0</td>\n",
       "      <td>61.0</td>\n",
       "      <td>4.0</td>\n",
       "      <td>12.1</td>\n",
       "      <td>54.4</td>\n",
       "      <td>24.324324</td>\n",
       "      <td>16.1</td>\n",
       "      <td>13.5</td>\n",
       "      <td>2582.160</td>\n",
       "      <td>2967.925</td>\n",
       "    </tr>\n",
       "    <tr>\n",
       "      <th>1</th>\n",
       "      <td>1</td>\n",
       "      <td>Steven Adams</td>\n",
       "      <td>Center</td>\n",
       "      <td>27.0</td>\n",
       "      <td>58.0</td>\n",
       "      <td>58.0</td>\n",
       "      <td>27.7</td>\n",
       "      <td>61.4</td>\n",
       "      <td>18.867925</td>\n",
       "      <td>17.4</td>\n",
       "      <td>17.5</td>\n",
       "      <td>29592.695</td>\n",
       "      <td>34013.743</td>\n",
       "    </tr>\n",
       "    <tr>\n",
       "      <th>2</th>\n",
       "      <td>2</td>\n",
       "      <td>Bam Adebayo</td>\n",
       "      <td>Center</td>\n",
       "      <td>23.0</td>\n",
       "      <td>64.0</td>\n",
       "      <td>64.0</td>\n",
       "      <td>33.5</td>\n",
       "      <td>57.1</td>\n",
       "      <td>35.200000</td>\n",
       "      <td>15.3</td>\n",
       "      <td>15.0</td>\n",
       "      <td>5115.492</td>\n",
       "      <td>5879.729</td>\n",
       "    </tr>\n",
       "    <tr>\n",
       "      <th>3</th>\n",
       "      <td>3</td>\n",
       "      <td>LaMarcus Aldridge</td>\n",
       "      <td>Center</td>\n",
       "      <td>35.0</td>\n",
       "      <td>26.0</td>\n",
       "      <td>23.0</td>\n",
       "      <td>25.9</td>\n",
       "      <td>52.5</td>\n",
       "      <td>14.035088</td>\n",
       "      <td>9.4</td>\n",
       "      <td>7.9</td>\n",
       "      <td>17628.340</td>\n",
       "      <td>20261.954</td>\n",
       "    </tr>\n",
       "    <tr>\n",
       "      <th>4</th>\n",
       "      <td>4</td>\n",
       "      <td>Nickeil Alexander-Walker</td>\n",
       "      <td>Guard</td>\n",
       "      <td>22.0</td>\n",
       "      <td>46.0</td>\n",
       "      <td>13.0</td>\n",
       "      <td>21.9</td>\n",
       "      <td>50.2</td>\n",
       "      <td>10.000000</td>\n",
       "      <td>7.8</td>\n",
       "      <td>12.4</td>\n",
       "      <td>3113.160</td>\n",
       "      <td>3578.255</td>\n",
       "    </tr>\n",
       "  </tbody>\n",
       "</table>\n",
       "</div>"
      ],
      "text/plain": [
       "   Unnamed: 0                    Player      Pos   Age     G    GS    MP  \\\n",
       "0           0          Precious Achiuwa  Forward  21.0  61.0   4.0  12.1   \n",
       "1           1              Steven Adams   Center  27.0  58.0  58.0  27.7   \n",
       "2           2               Bam Adebayo   Center  23.0  64.0  64.0  33.5   \n",
       "3           3         LaMarcus Aldridge   Center  35.0  26.0  23.0  25.9   \n",
       "4           4  Nickeil Alexander-Walker    Guard  22.0  46.0  13.0  21.9   \n",
       "\n",
       "   eFG%        FTR  TRB%  TOV%     Salary  Salary Adjusted  \n",
       "0  54.4  24.324324  16.1  13.5   2582.160         2967.925  \n",
       "1  61.4  18.867925  17.4  17.5  29592.695        34013.743  \n",
       "2  57.1  35.200000  15.3  15.0   5115.492         5879.729  \n",
       "3  52.5  14.035088   9.4   7.9  17628.340        20261.954  \n",
       "4  50.2  10.000000   7.8  12.4   3113.160         3578.255  "
      ]
     },
     "execution_count": 122,
     "metadata": {},
     "output_type": "execute_result"
    }
   ],
   "source": [
    "df_2.head()"
   ]
  },
  {
   "cell_type": "code",
   "execution_count": 123,
   "id": "0fb21f78",
   "metadata": {},
   "outputs": [
    {
     "data": {
      "text/html": [
       "<div>\n",
       "<style scoped>\n",
       "    .dataframe tbody tr th:only-of-type {\n",
       "        vertical-align: middle;\n",
       "    }\n",
       "\n",
       "    .dataframe tbody tr th {\n",
       "        vertical-align: top;\n",
       "    }\n",
       "\n",
       "    .dataframe thead th {\n",
       "        text-align: right;\n",
       "    }\n",
       "</style>\n",
       "<table border=\"1\" class=\"dataframe\">\n",
       "  <thead>\n",
       "    <tr style=\"text-align: right;\">\n",
       "      <th></th>\n",
       "      <th>Unnamed: 0</th>\n",
       "      <th>Age</th>\n",
       "      <th>G</th>\n",
       "      <th>GS</th>\n",
       "      <th>MP</th>\n",
       "      <th>eFG%</th>\n",
       "      <th>FTR</th>\n",
       "      <th>TRB%</th>\n",
       "      <th>TOV%</th>\n",
       "      <th>Salary</th>\n",
       "      <th>Salary Adjusted</th>\n",
       "    </tr>\n",
       "  </thead>\n",
       "  <tbody>\n",
       "    <tr>\n",
       "      <th>count</th>\n",
       "      <td>856.000000</td>\n",
       "      <td>856.000000</td>\n",
       "      <td>856.000000</td>\n",
       "      <td>856.000000</td>\n",
       "      <td>856.000000</td>\n",
       "      <td>856.000000</td>\n",
       "      <td>856.000000</td>\n",
       "      <td>856.000000</td>\n",
       "      <td>856.000000</td>\n",
       "      <td>856.000000</td>\n",
       "      <td>856.000000</td>\n",
       "    </tr>\n",
       "    <tr>\n",
       "      <th>mean</th>\n",
       "      <td>427.500000</td>\n",
       "      <td>25.837617</td>\n",
       "      <td>53.116822</td>\n",
       "      <td>26.239486</td>\n",
       "      <td>22.065537</td>\n",
       "      <td>53.200350</td>\n",
       "      <td>18.243307</td>\n",
       "      <td>10.190070</td>\n",
       "      <td>11.989720</td>\n",
       "      <td>8314.756160</td>\n",
       "      <td>9308.845190</td>\n",
       "    </tr>\n",
       "    <tr>\n",
       "      <th>std</th>\n",
       "      <td>247.250211</td>\n",
       "      <td>4.231382</td>\n",
       "      <td>15.805851</td>\n",
       "      <td>25.386461</td>\n",
       "      <td>8.389874</td>\n",
       "      <td>6.210733</td>\n",
       "      <td>8.794423</td>\n",
       "      <td>4.505693</td>\n",
       "      <td>3.942919</td>\n",
       "      <td>9714.827008</td>\n",
       "      <td>10877.871231</td>\n",
       "    </tr>\n",
       "    <tr>\n",
       "      <th>min</th>\n",
       "      <td>0.000000</td>\n",
       "      <td>19.000000</td>\n",
       "      <td>20.000000</td>\n",
       "      <td>0.000000</td>\n",
       "      <td>3.000000</td>\n",
       "      <td>26.900000</td>\n",
       "      <td>0.000000</td>\n",
       "      <td>3.300000</td>\n",
       "      <td>2.100000</td>\n",
       "      <td>135.362000</td>\n",
       "      <td>155.584000</td>\n",
       "    </tr>\n",
       "    <tr>\n",
       "      <th>25%</th>\n",
       "      <td>213.750000</td>\n",
       "      <td>22.000000</td>\n",
       "      <td>41.000000</td>\n",
       "      <td>4.000000</td>\n",
       "      <td>15.900000</td>\n",
       "      <td>49.400000</td>\n",
       "      <td>11.764706</td>\n",
       "      <td>6.800000</td>\n",
       "      <td>9.400000</td>\n",
       "      <td>1789.256000</td>\n",
       "      <td>2023.321750</td>\n",
       "    </tr>\n",
       "    <tr>\n",
       "      <th>50%</th>\n",
       "      <td>427.500000</td>\n",
       "      <td>25.000000</td>\n",
       "      <td>55.000000</td>\n",
       "      <td>16.000000</td>\n",
       "      <td>22.100000</td>\n",
       "      <td>53.100000</td>\n",
       "      <td>17.582418</td>\n",
       "      <td>9.100000</td>\n",
       "      <td>11.550000</td>\n",
       "      <td>3990.275500</td>\n",
       "      <td>4436.375000</td>\n",
       "    </tr>\n",
       "    <tr>\n",
       "      <th>75%</th>\n",
       "      <td>641.250000</td>\n",
       "      <td>29.000000</td>\n",
       "      <td>66.000000</td>\n",
       "      <td>50.000000</td>\n",
       "      <td>29.300000</td>\n",
       "      <td>56.800000</td>\n",
       "      <td>23.076923</td>\n",
       "      <td>12.525000</td>\n",
       "      <td>14.100000</td>\n",
       "      <td>10899.464000</td>\n",
       "      <td>12091.918750</td>\n",
       "    </tr>\n",
       "    <tr>\n",
       "      <th>max</th>\n",
       "      <td>855.000000</td>\n",
       "      <td>38.000000</td>\n",
       "      <td>82.000000</td>\n",
       "      <td>82.000000</td>\n",
       "      <td>37.900000</td>\n",
       "      <td>76.300000</td>\n",
       "      <td>59.740260</td>\n",
       "      <td>26.700000</td>\n",
       "      <td>31.900000</td>\n",
       "      <td>45780.966000</td>\n",
       "      <td>49928.610000</td>\n",
       "    </tr>\n",
       "  </tbody>\n",
       "</table>\n",
       "</div>"
      ],
      "text/plain": [
       "       Unnamed: 0         Age           G          GS          MP        eFG%  \\\n",
       "count  856.000000  856.000000  856.000000  856.000000  856.000000  856.000000   \n",
       "mean   427.500000   25.837617   53.116822   26.239486   22.065537   53.200350   \n",
       "std    247.250211    4.231382   15.805851   25.386461    8.389874    6.210733   \n",
       "min      0.000000   19.000000   20.000000    0.000000    3.000000   26.900000   \n",
       "25%    213.750000   22.000000   41.000000    4.000000   15.900000   49.400000   \n",
       "50%    427.500000   25.000000   55.000000   16.000000   22.100000   53.100000   \n",
       "75%    641.250000   29.000000   66.000000   50.000000   29.300000   56.800000   \n",
       "max    855.000000   38.000000   82.000000   82.000000   37.900000   76.300000   \n",
       "\n",
       "              FTR        TRB%        TOV%        Salary  Salary Adjusted  \n",
       "count  856.000000  856.000000  856.000000    856.000000       856.000000  \n",
       "mean    18.243307   10.190070   11.989720   8314.756160      9308.845190  \n",
       "std      8.794423    4.505693    3.942919   9714.827008     10877.871231  \n",
       "min      0.000000    3.300000    2.100000    135.362000       155.584000  \n",
       "25%     11.764706    6.800000    9.400000   1789.256000      2023.321750  \n",
       "50%     17.582418    9.100000   11.550000   3990.275500      4436.375000  \n",
       "75%     23.076923   12.525000   14.100000  10899.464000     12091.918750  \n",
       "max     59.740260   26.700000   31.900000  45780.966000     49928.610000  "
      ]
     },
     "execution_count": 123,
     "metadata": {},
     "output_type": "execute_result"
    }
   ],
   "source": [
    "df_2.describe()"
   ]
  },
  {
   "cell_type": "code",
   "execution_count": 124,
   "id": "a260c231",
   "metadata": {},
   "outputs": [],
   "source": [
    "df_hist = df_2[['eFG%', 'FTR', 'TRB%', 'TOV%']]"
   ]
  },
  {
   "cell_type": "code",
   "execution_count": 125,
   "id": "bf41a67a",
   "metadata": {},
   "outputs": [
    {
     "data": {
      "image/png": "[encoded data removed]",
      "text/plain": [
       "<Figure size 432x288 with 1 Axes>"
      ]
     },
     "metadata": {
      "needs_background": "light"
     },
     "output_type": "display_data"
    },
    {
     "data": {
      "image/png": "[encoded data removed]",
      "text/plain": [
       "<Figure size 432x288 with 1 Axes>"
      ]
     },
     "metadata": {
      "needs_background": "light"
     },
     "output_type": "display_data"
    },
    {
     "data": {
      "image/png": "[encoded data removed]",
      "text/plain": [
       "<Figure size 432x288 with 1 Axes>"
      ]
     },
     "metadata": {
      "needs_background": "light"
     },
     "output_type": "display_data"
    },
    {
     "data": {
      "image/png": "[encoded data removed]",
      "text/plain": [
       "<Figure size 432x288 with 1 Axes>"
      ]
     },
     "metadata": {
      "needs_background": "light"
     },
     "output_type": "display_data"
    }
   ],
   "source": [
    "for col in df_hist:\n",
    "    plt.hist(df_2[col], bins=20)\n",
    "    plt.xlabel(col)\n",
    "    plt.show()"
   ]
  },
  {
   "cell_type": "markdown",
   "id": "192d387c",
   "metadata": {},
   "source": [
    "All four factors seem to follow normal distributionn with some outliers. Rebounding is a little bit different due to playstyle of positions but still roughly follows a normal distribution."
   ]
  },
  {
   "cell_type": "code",
   "execution_count": 126,
   "id": "d7ac63ff",
   "metadata": {},
   "outputs": [
    {
     "data": {
      "text/html": [
       "<div>\n",
       "<style scoped>\n",
       "    .dataframe tbody tr th:only-of-type {\n",
       "        vertical-align: middle;\n",
       "    }\n",
       "\n",
       "    .dataframe tbody tr th {\n",
       "        vertical-align: top;\n",
       "    }\n",
       "\n",
       "    .dataframe thead th {\n",
       "        text-align: right;\n",
       "    }\n",
       "</style>\n",
       "<table border=\"1\" class=\"dataframe\">\n",
       "  <thead>\n",
       "    <tr style=\"text-align: right;\">\n",
       "      <th></th>\n",
       "      <th>eFG%</th>\n",
       "      <th>FTR</th>\n",
       "      <th>TRB%</th>\n",
       "      <th>TOV%</th>\n",
       "    </tr>\n",
       "  </thead>\n",
       "  <tbody>\n",
       "    <tr>\n",
       "      <th>eFG%</th>\n",
       "      <td>1.000000</td>\n",
       "      <td>0.169102</td>\n",
       "      <td>0.347887</td>\n",
       "      <td>-0.059893</td>\n",
       "    </tr>\n",
       "    <tr>\n",
       "      <th>FTR</th>\n",
       "      <td>0.169102</td>\n",
       "      <td>1.000000</td>\n",
       "      <td>0.348130</td>\n",
       "      <td>0.187982</td>\n",
       "    </tr>\n",
       "    <tr>\n",
       "      <th>TRB%</th>\n",
       "      <td>0.347887</td>\n",
       "      <td>0.348130</td>\n",
       "      <td>1.000000</td>\n",
       "      <td>0.206796</td>\n",
       "    </tr>\n",
       "    <tr>\n",
       "      <th>TOV%</th>\n",
       "      <td>-0.059893</td>\n",
       "      <td>0.187982</td>\n",
       "      <td>0.206796</td>\n",
       "      <td>1.000000</td>\n",
       "    </tr>\n",
       "  </tbody>\n",
       "</table>\n",
       "</div>"
      ],
      "text/plain": [
       "          eFG%       FTR      TRB%      TOV%\n",
       "eFG%  1.000000  0.169102  0.347887 -0.059893\n",
       "FTR   0.169102  1.000000  0.348130  0.187982\n",
       "TRB%  0.347887  0.348130  1.000000  0.206796\n",
       "TOV% -0.059893  0.187982  0.206796  1.000000"
      ]
     },
     "execution_count": 126,
     "metadata": {},
     "output_type": "execute_result"
    }
   ],
   "source": [
    "df_2[['eFG%', 'FTR', 'TRB%', 'TOV%']].corr()"
   ]
  },
  {
   "cell_type": "code",
   "execution_count": 127,
   "id": "86954257",
   "metadata": {},
   "outputs": [
    {
     "data": {
      "text/plain": [
       "<AxesSubplot:>"
      ]
     },
     "execution_count": 127,
     "metadata": {},
     "output_type": "execute_result"
    },
    {
     "data": {
      "image/png": "[encoded data removed]",
      "text/plain": [
       "<Figure size 432x288 with 2 Axes>"
      ]
     },
     "metadata": {
      "needs_background": "light"
     },
     "output_type": "display_data"
    }
   ],
   "source": [
    "cmap = sns.diverging_palette(220, 10, as_cmap=True)\n",
    "sns.heatmap(df_2[['eFG%', 'FTR', 'TRB%', 'TOV%']].corr(),vmax=.3, center=0, cmap=cmap,\n",
    "            square=True, linewidths=.5, cbar_kws={\"shrink\": .5})"
   ]
  },
  {
   "cell_type": "markdown",
   "id": "be8b035a",
   "metadata": {},
   "source": [
    "There is low correlation between all four factors. No adjustments will be needed for the model building process."
   ]
  },
  {
   "cell_type": "code",
   "execution_count": 128,
   "id": "0753ded6",
   "metadata": {},
   "outputs": [
    {
     "data": {
      "image/png": "[encoded data removed]",
      "text/plain": [
       "<Figure size 432x288 with 1 Axes>"
      ]
     },
     "metadata": {
      "needs_background": "light"
     },
     "output_type": "display_data"
    },
    {
     "data": {
      "image/png": "[encoded data removed]",
      "text/plain": [
       "<Figure size 432x288 with 1 Axes>"
      ]
     },
     "metadata": {
      "needs_background": "light"
     },
     "output_type": "display_data"
    },
    {
     "data": {
      "image/png": "[encoded data removed]",
      "text/plain": [
       "<Figure size 432x288 with 1 Axes>"
      ]
     },
     "metadata": {
      "needs_background": "light"
     },
     "output_type": "display_data"
    },
    {
     "data": {
      "image/png": "[encoded data removed]",
      "text/plain": [
       "<Figure size 432x288 with 1 Axes>"
      ]
     },
     "metadata": {
      "needs_background": "light"
     },
     "output_type": "display_data"
    }
   ],
   "source": [
    "df_2_box = df_2[['eFG%', 'FTR', 'TRB%', 'TOV%']]\n",
    "for col in df_2_box:\n",
    "    sns.boxplot(x=df_2['Pos'], y=df_2_box[col])\n",
    "    plt.show()"
   ]
  },
  {
   "cell_type": "code",
   "execution_count": 129,
   "id": "ff2fadcb",
   "metadata": {},
   "outputs": [],
   "source": [
    "df_2['age_bin'] = pd.cut(df_2.Age, [18, 21, 24, 27, 30, 33, 36, 39])\n",
    "df_2['games_bin'] = pd.cut(df_2.G, [20, 35, 50, 65, 82], include_lowest=True)\n",
    "df_2['games_started_bin'] = pd.cut(df_2.GS, [0, 20, 40, 60, 82])\n",
    "df_2['mins_bin'] = pd.cut(df_2.MP, [0, 10, 20, 30, 40], include_lowest=True)"
   ]
  },
  {
   "cell_type": "code",
   "execution_count": 130,
   "id": "191a3c0d",
   "metadata": {},
   "outputs": [],
   "source": [
    "df_2_age = df_2.groupby(['age_bin']).mean()"
   ]
  },
  {
   "cell_type": "code",
   "execution_count": 131,
   "id": "14f94a2e",
   "metadata": {},
   "outputs": [
    {
     "data": {
      "text/html": [
       "<div>\n",
       "<style scoped>\n",
       "    .dataframe tbody tr th:only-of-type {\n",
       "        vertical-align: middle;\n",
       "    }\n",
       "\n",
       "    .dataframe tbody tr th {\n",
       "        vertical-align: top;\n",
       "    }\n",
       "\n",
       "    .dataframe thead th {\n",
       "        text-align: right;\n",
       "    }\n",
       "</style>\n",
       "<table border=\"1\" class=\"dataframe\">\n",
       "  <thead>\n",
       "    <tr style=\"text-align: right;\">\n",
       "      <th></th>\n",
       "      <th>Unnamed: 0</th>\n",
       "      <th>Age</th>\n",
       "      <th>G</th>\n",
       "      <th>GS</th>\n",
       "      <th>MP</th>\n",
       "      <th>eFG%</th>\n",
       "      <th>FTR</th>\n",
       "      <th>TRB%</th>\n",
       "      <th>TOV%</th>\n",
       "      <th>Salary</th>\n",
       "      <th>Salary Adjusted</th>\n",
       "    </tr>\n",
       "    <tr>\n",
       "      <th>age_bin</th>\n",
       "      <th></th>\n",
       "      <th></th>\n",
       "      <th></th>\n",
       "      <th></th>\n",
       "      <th></th>\n",
       "      <th></th>\n",
       "      <th></th>\n",
       "      <th></th>\n",
       "      <th></th>\n",
       "      <th></th>\n",
       "      <th></th>\n",
       "    </tr>\n",
       "  </thead>\n",
       "  <tbody>\n",
       "    <tr>\n",
       "      <th>(18, 21]</th>\n",
       "      <td>415.080882</td>\n",
       "      <td>20.367647</td>\n",
       "      <td>51.029412</td>\n",
       "      <td>22.308824</td>\n",
       "      <td>19.904412</td>\n",
       "      <td>50.613235</td>\n",
       "      <td>17.378021</td>\n",
       "      <td>10.041912</td>\n",
       "      <td>12.552206</td>\n",
       "      <td>3500.087419</td>\n",
       "      <td>3921.837390</td>\n",
       "    </tr>\n",
       "    <tr>\n",
       "      <th>(21, 24]</th>\n",
       "      <td>438.520161</td>\n",
       "      <td>22.995968</td>\n",
       "      <td>50.947581</td>\n",
       "      <td>21.931452</td>\n",
       "      <td>20.370968</td>\n",
       "      <td>53.442742</td>\n",
       "      <td>18.634553</td>\n",
       "      <td>10.123790</td>\n",
       "      <td>11.867742</td>\n",
       "      <td>4637.102730</td>\n",
       "      <td>5190.974181</td>\n",
       "    </tr>\n",
       "    <tr>\n",
       "      <th>(24, 27]</th>\n",
       "      <td>439.500000</td>\n",
       "      <td>25.946809</td>\n",
       "      <td>55.276596</td>\n",
       "      <td>30.920213</td>\n",
       "      <td>23.252128</td>\n",
       "      <td>53.421809</td>\n",
       "      <td>17.866555</td>\n",
       "      <td>10.243617</td>\n",
       "      <td>11.442553</td>\n",
       "      <td>9252.529149</td>\n",
       "      <td>10351.423979</td>\n",
       "    </tr>\n",
       "    <tr>\n",
       "      <th>(27, 30]</th>\n",
       "      <td>407.441379</td>\n",
       "      <td>28.875862</td>\n",
       "      <td>56.034483</td>\n",
       "      <td>28.372414</td>\n",
       "      <td>23.809655</td>\n",
       "      <td>54.375172</td>\n",
       "      <td>18.380092</td>\n",
       "      <td>10.045517</td>\n",
       "      <td>11.340690</td>\n",
       "      <td>11779.260172</td>\n",
       "      <td>13233.322241</td>\n",
       "    </tr>\n",
       "    <tr>\n",
       "      <th>(30, 33]</th>\n",
       "      <td>427.296703</td>\n",
       "      <td>31.824176</td>\n",
       "      <td>53.329670</td>\n",
       "      <td>31.912088</td>\n",
       "      <td>24.076923</td>\n",
       "      <td>53.985714</td>\n",
       "      <td>19.820313</td>\n",
       "      <td>10.832967</td>\n",
       "      <td>13.037363</td>\n",
       "      <td>16321.829923</td>\n",
       "      <td>18199.996791</td>\n",
       "    </tr>\n",
       "  </tbody>\n",
       "</table>\n",
       "</div>"
      ],
      "text/plain": [
       "          Unnamed: 0        Age          G         GS         MP       eFG%  \\\n",
       "age_bin                                                                       \n",
       "(18, 21]  415.080882  20.367647  51.029412  22.308824  19.904412  50.613235   \n",
       "(21, 24]  438.520161  22.995968  50.947581  21.931452  20.370968  53.442742   \n",
       "(24, 27]  439.500000  25.946809  55.276596  30.920213  23.252128  53.421809   \n",
       "(27, 30]  407.441379  28.875862  56.034483  28.372414  23.809655  54.375172   \n",
       "(30, 33]  427.296703  31.824176  53.329670  31.912088  24.076923  53.985714   \n",
       "\n",
       "                FTR       TRB%       TOV%        Salary  Salary Adjusted  \n",
       "age_bin                                                                   \n",
       "(18, 21]  17.378021  10.041912  12.552206   3500.087419      3921.837390  \n",
       "(21, 24]  18.634553  10.123790  11.867742   4637.102730      5190.974181  \n",
       "(24, 27]  17.866555  10.243617  11.442553   9252.529149     10351.423979  \n",
       "(27, 30]  18.380092  10.045517  11.340690  11779.260172     13233.322241  \n",
       "(30, 33]  19.820313  10.832967  13.037363  16321.829923     18199.996791  "
      ]
     },
     "execution_count": 131,
     "metadata": {},
     "output_type": "execute_result"
    }
   ],
   "source": [
    "df_2_age.head()"
   ]
  },
  {
   "cell_type": "code",
   "execution_count": 132,
   "id": "796859ad",
   "metadata": {},
   "outputs": [
    {
     "data": {
      "image/png": "[encoded data removed]",
      "text/plain": [
       "<Figure size 720x360 with 1 Axes>"
      ]
     },
     "metadata": {
      "needs_background": "light"
     },
     "output_type": "display_data"
    }
   ],
   "source": [
    "plt.figure(figsize=(10, 5))\n",
    "plt.plot(list(df_2_age.index.astype(str)), np.array(df_2_age['eFG%']), label='eFG%')\n",
    "plt.xlabel('Age')\n",
    "plt.ylabel('Effective Field Goal Percentage')\n",
    "plt.show()"
   ]
  },
  {
   "cell_type": "markdown",
   "id": "edb808a5",
   "metadata": {},
   "source": [
    "Players shoot better between 27-33 because they are in their prime athletic years, as can also be seen peaking in offensive rating and box plus minus from above graphs."
   ]
  },
  {
   "cell_type": "code",
   "execution_count": 133,
   "id": "aaded004",
   "metadata": {},
   "outputs": [
    {
     "data": {
      "image/png": "[encoded data removed]",
      "text/plain": [
       "<Figure size 720x360 with 1 Axes>"
      ]
     },
     "metadata": {
      "needs_background": "light"
     },
     "output_type": "display_data"
    }
   ],
   "source": [
    "plt.figure(figsize=(10, 5))\n",
    "plt.plot(list(df_2_age.index.astype(str)), np.array(df_2_age['FTR']), label='FTR')\n",
    "plt.plot(list(df_2_age.index.astype(str)), np.array(df_2_age['TRB%']), label='TRB%')\n",
    "plt.plot(list(df_2_age.index.astype(str)), np.array(df_2_age['TOV%']), label='TOV%')\n",
    "plt.xlabel('Age')\n",
    "plt.ylabel('Percentage')\n",
    "plt.legend()\n",
    "plt.show()"
   ]
  },
  {
   "cell_type": "code",
   "execution_count": 134,
   "id": "011fa3f4",
   "metadata": {},
   "outputs": [],
   "source": [
    "df_2_mins = df_2.groupby(['mins_bin']).mean()"
   ]
  },
  {
   "cell_type": "code",
   "execution_count": 135,
   "id": "34f6a598",
   "metadata": {},
   "outputs": [
    {
     "data": {
      "text/html": [
       "<div>\n",
       "<style scoped>\n",
       "    .dataframe tbody tr th:only-of-type {\n",
       "        vertical-align: middle;\n",
       "    }\n",
       "\n",
       "    .dataframe tbody tr th {\n",
       "        vertical-align: top;\n",
       "    }\n",
       "\n",
       "    .dataframe thead th {\n",
       "        text-align: right;\n",
       "    }\n",
       "</style>\n",
       "<table border=\"1\" class=\"dataframe\">\n",
       "  <thead>\n",
       "    <tr style=\"text-align: right;\">\n",
       "      <th></th>\n",
       "      <th>Unnamed: 0</th>\n",
       "      <th>Age</th>\n",
       "      <th>G</th>\n",
       "      <th>GS</th>\n",
       "      <th>MP</th>\n",
       "      <th>eFG%</th>\n",
       "      <th>FTR</th>\n",
       "      <th>TRB%</th>\n",
       "      <th>TOV%</th>\n",
       "      <th>Salary</th>\n",
       "      <th>Salary Adjusted</th>\n",
       "    </tr>\n",
       "    <tr>\n",
       "      <th>mins_bin</th>\n",
       "      <th></th>\n",
       "      <th></th>\n",
       "      <th></th>\n",
       "      <th></th>\n",
       "      <th></th>\n",
       "      <th></th>\n",
       "      <th></th>\n",
       "      <th></th>\n",
       "      <th></th>\n",
       "      <th></th>\n",
       "      <th></th>\n",
       "    </tr>\n",
       "  </thead>\n",
       "  <tbody>\n",
       "    <tr>\n",
       "      <th>(-0.001, 10.0]</th>\n",
       "      <td>398.762500</td>\n",
       "      <td>23.500000</td>\n",
       "      <td>32.500000</td>\n",
       "      <td>1.200000</td>\n",
       "      <td>7.597500</td>\n",
       "      <td>50.951250</td>\n",
       "      <td>17.129547</td>\n",
       "      <td>11.292500</td>\n",
       "      <td>12.671250</td>\n",
       "      <td>1632.249700</td>\n",
       "      <td>1824.506850</td>\n",
       "    </tr>\n",
       "    <tr>\n",
       "      <th>(10.0, 20.0]</th>\n",
       "      <td>444.017483</td>\n",
       "      <td>25.709790</td>\n",
       "      <td>48.545455</td>\n",
       "      <td>6.979021</td>\n",
       "      <td>15.633916</td>\n",
       "      <td>52.424126</td>\n",
       "      <td>17.425478</td>\n",
       "      <td>10.429021</td>\n",
       "      <td>12.326224</td>\n",
       "      <td>3290.211598</td>\n",
       "      <td>3680.213643</td>\n",
       "    </tr>\n",
       "    <tr>\n",
       "      <th>(20.0, 30.0]</th>\n",
       "      <td>428.229508</td>\n",
       "      <td>26.436066</td>\n",
       "      <td>57.921311</td>\n",
       "      <td>30.954098</td>\n",
       "      <td>25.080984</td>\n",
       "      <td>54.092787</td>\n",
       "      <td>16.989237</td>\n",
       "      <td>9.821967</td>\n",
       "      <td>11.448852</td>\n",
       "      <td>8014.724157</td>\n",
       "      <td>8975.464554</td>\n",
       "    </tr>\n",
       "    <tr>\n",
       "      <th>(30.0, 40.0]</th>\n",
       "      <td>413.189189</td>\n",
       "      <td>26.059459</td>\n",
       "      <td>61.178378</td>\n",
       "      <td>59.070270</td>\n",
       "      <td>33.293514</td>\n",
       "      <td>53.901622</td>\n",
       "      <td>22.056770</td>\n",
       "      <td>9.950811</td>\n",
       "      <td>12.066486</td>\n",
       "      <td>19466.810335</td>\n",
       "      <td>21796.503481</td>\n",
       "    </tr>\n",
       "  </tbody>\n",
       "</table>\n",
       "</div>"
      ],
      "text/plain": [
       "                Unnamed: 0        Age          G         GS         MP  \\\n",
       "mins_bin                                                                 \n",
       "(-0.001, 10.0]  398.762500  23.500000  32.500000   1.200000   7.597500   \n",
       "(10.0, 20.0]    444.017483  25.709790  48.545455   6.979021  15.633916   \n",
       "(20.0, 30.0]    428.229508  26.436066  57.921311  30.954098  25.080984   \n",
       "(30.0, 40.0]    413.189189  26.059459  61.178378  59.070270  33.293514   \n",
       "\n",
       "                     eFG%        FTR       TRB%       TOV%        Salary  \\\n",
       "mins_bin                                                                   \n",
       "(-0.001, 10.0]  50.951250  17.129547  11.292500  12.671250   1632.249700   \n",
       "(10.0, 20.0]    52.424126  17.425478  10.429021  12.326224   3290.211598   \n",
       "(20.0, 30.0]    54.092787  16.989237   9.821967  11.448852   8014.724157   \n",
       "(30.0, 40.0]    53.901622  22.056770   9.950811  12.066486  19466.810335   \n",
       "\n",
       "                Salary Adjusted  \n",
       "mins_bin                         \n",
       "(-0.001, 10.0]      1824.506850  \n",
       "(10.0, 20.0]        3680.213643  \n",
       "(20.0, 30.0]        8975.464554  \n",
       "(30.0, 40.0]       21796.503481  "
      ]
     },
     "execution_count": 135,
     "metadata": {},
     "output_type": "execute_result"
    }
   ],
   "source": [
    "df_2_mins.head()"
   ]
  },
  {
   "cell_type": "code",
   "execution_count": 136,
   "id": "00ece20e",
   "metadata": {},
   "outputs": [
    {
     "data": {
      "image/png": "[encoded data removed]",
      "text/plain": [
       "<Figure size 720x360 with 1 Axes>"
      ]
     },
     "metadata": {
      "needs_background": "light"
     },
     "output_type": "display_data"
    }
   ],
   "source": [
    "plt.figure(figsize=(10, 5))\n",
    "plt.plot(list(df_2_mins.index.astype(str)), np.array(df_2_mins['eFG%']), label='eFG%')\n",
    "plt.xlabel('Minutes')\n",
    "plt.ylabel('Effective Field Goal Percentage')\n",
    "plt.show()"
   ]
  },
  {
   "cell_type": "code",
   "execution_count": 137,
   "id": "9702f370",
   "metadata": {},
   "outputs": [
    {
     "data": {
      "image/png": "[encoded data removed]",
      "text/plain": [
       "<Figure size 720x360 with 1 Axes>"
      ]
     },
     "metadata": {
      "needs_background": "light"
     },
     "output_type": "display_data"
    }
   ],
   "source": [
    "plt.figure(figsize=(10, 5))\n",
    "plt.plot(list(df_2_mins.index.astype(str)), np.array(df_2_mins['FTR']), label='FTR')\n",
    "plt.plot(list(df_2_mins.index.astype(str)), np.array(df_2_mins['TRB%']), label='TRB%')\n",
    "plt.plot(list(df_2_mins.index.astype(str)), np.array(df_2_mins['TOV%']), label='TOV%')\n",
    "plt.xlabel('Minutes')\n",
    "plt.ylabel('Percentage')\n",
    "plt.legend()\n",
    "plt.show()"
   ]
  },
  {
   "cell_type": "code",
   "execution_count": 138,
   "id": "358f6b26",
   "metadata": {},
   "outputs": [],
   "source": [
    "df_2_games = df_2.groupby(['games_bin']).mean()"
   ]
  },
  {
   "cell_type": "code",
   "execution_count": 139,
   "id": "572768b5",
   "metadata": {},
   "outputs": [
    {
     "data": {
      "text/html": [
       "<div>\n",
       "<style scoped>\n",
       "    .dataframe tbody tr th:only-of-type {\n",
       "        vertical-align: middle;\n",
       "    }\n",
       "\n",
       "    .dataframe tbody tr th {\n",
       "        vertical-align: top;\n",
       "    }\n",
       "\n",
       "    .dataframe thead th {\n",
       "        text-align: right;\n",
       "    }\n",
       "</style>\n",
       "<table border=\"1\" class=\"dataframe\">\n",
       "  <thead>\n",
       "    <tr style=\"text-align: right;\">\n",
       "      <th></th>\n",
       "      <th>Unnamed: 0</th>\n",
       "      <th>Age</th>\n",
       "      <th>G</th>\n",
       "      <th>GS</th>\n",
       "      <th>MP</th>\n",
       "      <th>eFG%</th>\n",
       "      <th>FTR</th>\n",
       "      <th>TRB%</th>\n",
       "      <th>TOV%</th>\n",
       "      <th>Salary</th>\n",
       "      <th>Salary Adjusted</th>\n",
       "    </tr>\n",
       "    <tr>\n",
       "      <th>games_bin</th>\n",
       "      <th></th>\n",
       "      <th></th>\n",
       "      <th></th>\n",
       "      <th></th>\n",
       "      <th></th>\n",
       "      <th></th>\n",
       "      <th></th>\n",
       "      <th></th>\n",
       "      <th></th>\n",
       "      <th></th>\n",
       "      <th></th>\n",
       "    </tr>\n",
       "  </thead>\n",
       "  <tbody>\n",
       "    <tr>\n",
       "      <th>(19.999, 35.0]</th>\n",
       "      <td>399.335616</td>\n",
       "      <td>25.082192</td>\n",
       "      <td>27.780822</td>\n",
       "      <td>6.102740</td>\n",
       "      <td>15.006164</td>\n",
       "      <td>49.972603</td>\n",
       "      <td>17.298221</td>\n",
       "      <td>10.339726</td>\n",
       "      <td>12.916438</td>\n",
       "      <td>4924.009178</td>\n",
       "      <td>5520.660651</td>\n",
       "    </tr>\n",
       "    <tr>\n",
       "      <th>(35.0, 50.0]</th>\n",
       "      <td>400.540000</td>\n",
       "      <td>25.865000</td>\n",
       "      <td>43.325000</td>\n",
       "      <td>15.090000</td>\n",
       "      <td>19.243500</td>\n",
       "      <td>52.793000</td>\n",
       "      <td>18.068251</td>\n",
       "      <td>10.461000</td>\n",
       "      <td>11.961000</td>\n",
       "      <td>7489.527855</td>\n",
       "      <td>8456.028000</td>\n",
       "    </tr>\n",
       "    <tr>\n",
       "      <th>(50.0, 65.0]</th>\n",
       "      <td>404.676259</td>\n",
       "      <td>26.014388</td>\n",
       "      <td>58.269784</td>\n",
       "      <td>29.503597</td>\n",
       "      <td>23.818705</td>\n",
       "      <td>53.565827</td>\n",
       "      <td>18.986174</td>\n",
       "      <td>9.842446</td>\n",
       "      <td>12.018705</td>\n",
       "      <td>9156.614860</td>\n",
       "      <td>10279.859712</td>\n",
       "    </tr>\n",
       "    <tr>\n",
       "      <th>(65.0, 82.0]</th>\n",
       "      <td>495.814655</td>\n",
       "      <td>26.077586</td>\n",
       "      <td>71.327586</td>\n",
       "      <td>44.612069</td>\n",
       "      <td>26.840086</td>\n",
       "      <td>55.144828</td>\n",
       "      <td>18.098808</td>\n",
       "      <td>10.278879</td>\n",
       "      <td>11.396552</td>\n",
       "      <td>10151.213065</td>\n",
       "      <td>11264.432879</td>\n",
       "    </tr>\n",
       "  </tbody>\n",
       "</table>\n",
       "</div>"
      ],
      "text/plain": [
       "                Unnamed: 0        Age          G         GS         MP  \\\n",
       "games_bin                                                                \n",
       "(19.999, 35.0]  399.335616  25.082192  27.780822   6.102740  15.006164   \n",
       "(35.0, 50.0]    400.540000  25.865000  43.325000  15.090000  19.243500   \n",
       "(50.0, 65.0]    404.676259  26.014388  58.269784  29.503597  23.818705   \n",
       "(65.0, 82.0]    495.814655  26.077586  71.327586  44.612069  26.840086   \n",
       "\n",
       "                     eFG%        FTR       TRB%       TOV%        Salary  \\\n",
       "games_bin                                                                  \n",
       "(19.999, 35.0]  49.972603  17.298221  10.339726  12.916438   4924.009178   \n",
       "(35.0, 50.0]    52.793000  18.068251  10.461000  11.961000   7489.527855   \n",
       "(50.0, 65.0]    53.565827  18.986174   9.842446  12.018705   9156.614860   \n",
       "(65.0, 82.0]    55.144828  18.098808  10.278879  11.396552  10151.213065   \n",
       "\n",
       "                Salary Adjusted  \n",
       "games_bin                        \n",
       "(19.999, 35.0]      5520.660651  \n",
       "(35.0, 50.0]        8456.028000  \n",
       "(50.0, 65.0]       10279.859712  \n",
       "(65.0, 82.0]       11264.432879  "
      ]
     },
     "execution_count": 139,
     "metadata": {},
     "output_type": "execute_result"
    }
   ],
   "source": [
    "df_2_games.head()"
   ]
  },
  {
   "cell_type": "code",
   "execution_count": 140,
   "id": "44c5dd38",
   "metadata": {},
   "outputs": [
    {
     "data": {
      "image/png": "[encoded data removed]",
      "text/plain": [
       "<Figure size 720x360 with 1 Axes>"
      ]
     },
     "metadata": {
      "needs_background": "light"
     },
     "output_type": "display_data"
    }
   ],
   "source": [
    "plt.figure(figsize=(10, 5))\n",
    "plt.plot(list(df_2_games.index.astype(str)), np.array(df_2_games['eFG%']), label='eFG%')\n",
    "plt.xlabel('Games Played')\n",
    "plt.ylabel('Effective Field Goal Percentage')\n",
    "plt.show()"
   ]
  },
  {
   "cell_type": "code",
   "execution_count": 141,
   "id": "5718b790",
   "metadata": {},
   "outputs": [
    {
     "data": {
      "image/png": "[encoded data removed]",
      "text/plain": [
       "<Figure size 720x360 with 1 Axes>"
      ]
     },
     "metadata": {
      "needs_background": "light"
     },
     "output_type": "display_data"
    }
   ],
   "source": [
    "plt.figure(figsize=(10, 5))\n",
    "plt.plot(list(df_2_games.index.astype(str)), np.array(df_2_games['FTR']), label='FTR')\n",
    "plt.plot(list(df_2_games.index.astype(str)), np.array(df_2_games['TRB%']), label='TRB%')\n",
    "plt.plot(list(df_2_games.index.astype(str)), np.array(df_2_games['TOV%']), label='TOV%')\n",
    "plt.xlabel('Games Played')\n",
    "plt.ylabel('Percentage')\n",
    "plt.legend()\n",
    "plt.show()"
   ]
  },
  {
   "cell_type": "code",
   "execution_count": 142,
   "id": "5868d531",
   "metadata": {},
   "outputs": [],
   "source": [
    "df_2.to_csv('model_2_eda_data.csv')"
   ]
  }
 ],
 "metadata": {
  "kernelspec": {
   "display_name": "Python 3",
   "language": "python",
   "name": "python3"
  },
  "language_info": {
   "codemirror_mode": {
    "name": "ipython",
    "version": 3
   },
   "file_extension": ".py",
   "mimetype": "text/x-python",
   "name": "python",
   "nbconvert_exporter": "python",
   "pygments_lexer": "ipython3",
   "version": "3.8.8"
  }
 },
 "nbformat": 4,
 "nbformat_minor": 5
}
